{
 "cells": [
  {
   "cell_type": "code",
   "execution_count": 26,
   "metadata": {},
   "outputs": [],
   "source": [
    "import pyomo.environ as pyo\n",
    "import numpy as np\n",
    "import pandas as pd\n",
    "from comp import compare"
   ]
  },
  {
   "cell_type": "code",
   "execution_count": 27,
   "metadata": {},
   "outputs": [],
   "source": [
    "data = pd.read_csv(\"DebrisFlow.txt\",sep='\\t',header=None)"
   ]
  },
  {
   "cell_type": "code",
   "execution_count": 28,
   "metadata": {},
   "outputs": [],
   "source": [
    "model = pyo.ConcreteModel()"
   ]
  },
  {
   "cell_type": "code",
   "execution_count": 29,
   "metadata": {},
   "outputs": [],
   "source": [
    "I = np.arange(len(data))"
   ]
  },
  {
   "cell_type": "code",
   "execution_count": 30,
   "metadata": {},
   "outputs": [],
   "source": [
    "model.I = pyo.Set(initialize=I)"
   ]
  },
  {
   "cell_type": "code",
   "execution_count": 31,
   "metadata": {},
   "outputs": [],
   "source": [
    "model.eps = pyo.Var(model.I,domain = pyo.NonNegativeReals)"
   ]
  },
  {
   "cell_type": "code",
   "execution_count": 32,
   "metadata": {},
   "outputs": [],
   "source": [
    "model.c = pyo.Var(domain= pyo.NonNegativeReals, bounds =(0,0.3))"
   ]
  },
  {
   "cell_type": "code",
   "execution_count": 33,
   "metadata": {},
   "outputs": [],
   "source": [
    "model.d = pyo.Var(domain = pyo.Reals, bounds = (-94,25))"
   ]
  },
  {
   "cell_type": "code",
   "execution_count": 34,
   "metadata": {},
   "outputs": [],
   "source": [
    "def rule_par_x(model,i):\n",
    "    return data.iloc[i-1][0]\n"
   ]
  },
  {
   "cell_type": "code",
   "execution_count": 35,
   "metadata": {},
   "outputs": [],
   "source": [
    "def rule_par_y(model,i):\n",
    "    return data.iloc[i-1][1]"
   ]
  },
  {
   "cell_type": "code",
   "execution_count": 36,
   "metadata": {},
   "outputs": [],
   "source": [
    "model.X = pyo.Param(model.I, initialize = rule_par_x)"
   ]
  },
  {
   "cell_type": "code",
   "execution_count": 37,
   "metadata": {},
   "outputs": [],
   "source": [
    "model.Y = pyo.Param(model.I, initialize = rule_par_y)"
   ]
  },
  {
   "cell_type": "code",
   "execution_count": 38,
   "metadata": {},
   "outputs": [],
   "source": [
    "def rule_const_1(model,i):\n",
    "    return model.Y[i] - model.c*model.X[i] - model.d <= model.eps[i]"
   ]
  },
  {
   "cell_type": "code",
   "execution_count": 39,
   "metadata": {},
   "outputs": [],
   "source": [
    "def rule_const_2(model,i):\n",
    "    return -1*model.Y[i] + model.c*model.X[i] + model.d <= model.eps[i]"
   ]
  },
  {
   "cell_type": "code",
   "execution_count": 40,
   "metadata": {},
   "outputs": [],
   "source": [
    "model.const1 = pyo.Constraint(model.I,rule=rule_const_1)"
   ]
  },
  {
   "cell_type": "code",
   "execution_count": 41,
   "metadata": {},
   "outputs": [],
   "source": [
    "model.const_2 = pyo.Constraint(model.I,rule=rule_const_2)"
   ]
  },
  {
   "cell_type": "code",
   "execution_count": 42,
   "metadata": {},
   "outputs": [],
   "source": [
    "def rule_obj(model):\n",
    "    return sum(model.eps[i] for i in model.I)"
   ]
  },
  {
   "cell_type": "code",
   "execution_count": 43,
   "metadata": {},
   "outputs": [],
   "source": [
    "model.obj = pyo.Objective(rule=rule_obj,sense=pyo.minimize)"
   ]
  },
  {
   "cell_type": "code",
   "execution_count": 44,
   "metadata": {},
   "outputs": [],
   "source": [
    "result = pyo.SolverFactory('glpk').solve(model,'glpk')"
   ]
  },
  {
   "cell_type": "code",
   "execution_count": 45,
   "metadata": {},
   "outputs": [
    {
     "name": "stdout",
     "output_type": "stream",
     "text": [
      "\n",
      "Problem: \n",
      "- Name: unknown\n",
      "  Lower bound: 86.8262497581626\n",
      "  Upper bound: 86.8262497581626\n",
      "  Number of objectives: 1\n",
      "  Number of constraints: 89\n",
      "  Number of variables: 47\n",
      "  Number of nonzeros: 265\n",
      "  Sense: minimize\n",
      "Solver: \n",
      "- Status: ok\n",
      "  Termination condition: optimal\n",
      "  Statistics: \n",
      "    Branch and bound: \n",
      "      Number of bounded subproblems: 0\n",
      "      Number of created subproblems: 0\n",
      "  Error rc: 0\n",
      "  Time: 0.10164332389831543\n",
      "Solution: \n",
      "- number of solutions: 0\n",
      "  number of solutions displayed: 0\n",
      "\n"
     ]
    }
   ],
   "source": [
    "print(result)"
   ]
  },
  {
   "cell_type": "code",
   "execution_count": 46,
   "metadata": {},
   "outputs": [
    {
     "name": "stdout",
     "output_type": "stream",
     "text": [
      "Model unknown\n",
      "\n",
      "  Variables:\n",
      "    eps : Size=44, Index=I\n",
      "        Key : Lower : Value                 : Upper : Fixed : Stale : Domain\n",
      "          0 :     0 :      0.41483784024126 :  None : False : False : NonNegativeReals\n",
      "          1 :     0 :      1.99053193392577 :  None : False : False : NonNegativeReals\n",
      "          2 :     0 :      1.87965462312852 :  None : False : False : NonNegativeReals\n",
      "          3 :     0 :      1.76949595633126 :  None : False : False : NonNegativeReals\n",
      "          4 :     0 :      1.66011207053399 :  None : False : False : NonNegativeReals\n",
      "          5 :     0 :      1.54903202298626 :  None : False : False : NonNegativeReals\n",
      "          6 :     0 :      1.43786606218903 :  None : False : False : NonNegativeReals\n",
      "          7 :     0 :      1.07812815139174 :  None : False : False : NonNegativeReals\n",
      "          8 :     0 :     0.718406439594476 :  None : False : False : NonNegativeReals\n",
      "          9 :     0 :     0.359613610797247 :  None : False : False : NonNegativeReals\n",
      "         10 :     0 :  1.09802242456883e-16 :  None : False : False : NonNegativeReals\n",
      "         11 :     0 :      0.35969824679728 :  None : False : False : NonNegativeReals\n",
      "         12 :     0 :      0.71935702159452 :  None : False : False : NonNegativeReals\n",
      "         13 :     0 :     0.763126295142257 :  None : False : False : NonNegativeReals\n",
      "         14 :     0 :       1.1228781019395 :  None : False : False : NonNegativeReals\n",
      "         15 :     0 :      1.23347793873679 :  None : False : False : NonNegativeReals\n",
      "         16 :     0 :      1.27729687453404 :  None : False : False : NonNegativeReals\n",
      "         17 :     0 :      1.63715362333128 :  None : False : False : NonNegativeReals\n",
      "         18 :     0 :      1.99693955212853 :  None : False : False : NonNegativeReals\n",
      "         19 :     0 :       2.3567963009258 :  None : False : False : NonNegativeReals\n",
      "         20 :     0 :      2.70966122947352 :  None : False : False : NonNegativeReals\n",
      "         21 :     0 :      5.42210371339931 :  None : False : False : NonNegativeReals\n",
      "         22 :     0 :      5.78109225619656 :  None : False : False : NonNegativeReals\n",
      "         23 :     0 :      6.14068505499382 :  None : False : False : NonNegativeReals\n",
      "         24 :     0 :      6.50047600179108 :  None : False : False : NonNegativeReals\n",
      "         25 :     0 :      2.02613222226605 :  None : False : False : NonNegativeReals\n",
      "         26 :     0 :      2.70244470571832 :  None : False : False : NonNegativeReals\n",
      "         27 :     0 :      2.34345786917059 :  None : False : False : NonNegativeReals\n",
      "         28 :     0 :      3.30874620262287 :  None : False : False : NonNegativeReals\n",
      "         29 :     0 :      5.64706617315464 :  None : False : False : NonNegativeReals\n",
      "         30 :     0 :      5.57635084435739 :  None : False : False : NonNegativeReals\n",
      "         31 :     0 :      5.21666079780966 :  None : False : False : NonNegativeReals\n",
      "         32 :     0 :       5.1459280590124 :  None : False : False : NonNegativeReals\n",
      "         33 :     0 :     0.207483821070415 :  None : False : False : NonNegativeReals\n",
      "         34 :     0 :     0.559031227618156 :  None : False : False : NonNegativeReals\n",
      "         35 :     0 :     0.238638044165883 :  None : False : False : NonNegativeReals\n",
      "         36 :     0 :     0.311555510713605 :  None : False : False : NonNegativeReals\n",
      "         37 :     0 :     0.214010843452269 :  None : False : False : NonNegativeReals\n",
      "         38 :     0 : -1.13679753413516e-16 :  None : False : False : NonNegativeReals\n",
      "         39 :     0 :     0.215107603452271 :  None : False : False : NonNegativeReals\n",
      "         40 :     0 :     0.206371866904537 :  None : False : False : NonNegativeReals\n",
      "         41 :     0 :      1.16824578336697 :  None : False : False : NonNegativeReals\n",
      "         42 :     0 :     0.663529152164228 :  None : False : False : NonNegativeReals\n",
      "         43 :     0 :     0.197068109038513 :  None : False : False : NonNegativeReals\n",
      "    c : Size=1, Index=None\n",
      "        Key  : Lower : Value             : Upper : Fixed : Stale : Domain\n",
      "        None :     0 : 0.077622249524861 :   0.3 : False : False : NonNegativeReals\n",
      "    d : Size=1, Index=None\n",
      "        Key  : Lower : Value            : Upper : Fixed : Stale : Domain\n",
      "        None :   -94 : -2.0610252726718 :    25 : False : False :  Reals\n",
      "\n",
      "  Objectives:\n",
      "    obj : Size=1, Index=None, Active=True\n",
      "        Key  : Active : Value\n",
      "        None :   True : 86.8262497581626\n",
      "\n",
      "  Constraints:\n",
      "    const1 : Size=44\n",
      "        Key : Lower : Body                   : Upper\n",
      "          0 :  None :  3.863576125695545e-14 :   0.0\n",
      "          1 :  None : 1.0436096431476471e-14 :   0.0\n",
      "          2 :  None : 4.6629367034256575e-15 :   0.0\n",
      "          3 :  None :  8.881784197001252e-15 :   0.0\n",
      "          4 :  None :  2.353672812205332e-14 :   0.0\n",
      "          5 :  None : 2.3092638912203256e-14 :   0.0\n",
      "          6 :  None : -3.552713678800501e-15 :   0.0\n",
      "          7 :  None :  3.197442310920451e-14 :   0.0\n",
      "          8 :  None :  4.063416270128073e-14 :   0.0\n",
      "          9 :  None : 1.2823075934420558e-14 :   0.0\n",
      "         10 :  None :  4.775179065893806e-15 :   0.0\n",
      "         11 :  None :    -0.7193964935945296 :   0.0\n",
      "         12 :  None :    -1.4387140431890257 :   0.0\n",
      "         13 :  None :     -1.526252590284495 :   0.0\n",
      "         14 :  None :     -2.245756203878992 :   0.0\n",
      "         15 :  None :    -2.4669558774735387 :   0.0\n",
      "         16 :  None :    -2.5545937490680437 :   0.0\n",
      "         17 :  None :    -3.2743072466625396 :   0.0\n",
      "         18 :  None :    -3.9938791042570454 :   0.0\n",
      "         19 :  None :    -4.7135926018515715 :   0.0\n",
      "         20 :  None :     -5.419322458947022 :   0.0\n",
      "         21 :  None :    -10.844207426798587 :   0.0\n",
      "         22 :  None :    -11.562184512393094 :   0.0\n",
      "         23 :  None :     -12.28137010998761 :   0.0\n",
      "         24 :  None :    -13.000952003582123 :   0.0\n",
      "         25 :  None : 2.5757174171303632e-14 :   0.0\n",
      "         26 :  None :  2.708944180085382e-14 :   0.0\n",
      "         27 :  None : 2.4868995751603507e-14 :   0.0\n",
      "         28 :  None : 1.6431300764452317e-14 :   0.0\n",
      "         29 :  None : 2.1316282072803006e-14 :   0.0\n",
      "         30 :  None :  1.509903313490213e-14 :   0.0\n",
      "         31 :  None :  1.509903313490213e-14 :   0.0\n",
      "         32 :  None : 1.7763568394002505e-14 :   0.0\n",
      "         33 :  None :   -0.41496764214080384 :   0.0\n",
      "         34 :  None :    -1.1180624552362755 :   0.0\n",
      "         35 :  None :   -0.47727608833173474 :   0.0\n",
      "         36 :  None :     -0.623111021427182 :   0.0\n",
      "         37 :  None :   -0.42802168690450376 :   0.0\n",
      "         38 :  None :  3.697308417096871e-14 :   0.0\n",
      "         39 :  None :  3.327893516313907e-14 :   0.0\n",
      "         40 :  None :  3.633204848085825e-14 :   0.0\n",
      "         41 :  None :     -2.336491566733903 :   0.0\n",
      "         42 :  None :    -1.3270583043284212 :   0.0\n",
      "         43 :  None :  3.522182545623309e-14 :   0.0\n",
      "    const_2 : Size=44\n",
      "        Key : Lower : Body                    : Upper\n",
      "          0 :  None :     -0.8296756804825587 :   0.0\n",
      "          1 :  None :     -3.9810638678515504 :   0.0\n",
      "          2 :  None :      -3.759309246257045 :   0.0\n",
      "          3 :  None :      -3.538991912662529 :   0.0\n",
      "          4 :  None :     -3.3202241410680036 :   0.0\n",
      "          5 :  None :      -3.098064045972543 :   0.0\n",
      "          6 :  None :     -2.8757321243780565 :   0.0\n",
      "          7 :  None :      -2.156256302783512 :   0.0\n",
      "          8 :  None :     -1.4368128791889927 :   0.0\n",
      "          9 :  None :     -0.7192272215945068 :   0.0\n",
      "         10 :  None : -4.9947835508075715e-15 :   0.0\n",
      "         11 :  None :  -3.042011087472929e-14 :   0.0\n",
      "         12 :  None : -1.4210854715202004e-14 :   0.0\n",
      "         13 :  None : -1.9095836023552692e-14 :   0.0\n",
      "         14 :  None :  -7.993605777301127e-15 :   0.0\n",
      "         15 :  None :  -4.107825191113079e-14 :   0.0\n",
      "         16 :  None : -3.6415315207705135e-14 :   0.0\n",
      "         17 :  None :  -2.042810365310288e-14 :   0.0\n",
      "         18 :  None : -1.4876988529977098e-14 :   0.0\n",
      "         19 :  None :  -2.886579864025407e-14 :   0.0\n",
      "         20 :  None : -1.8207657603852567e-14 :   0.0\n",
      "         21 :  None : -3.4638958368304884e-14 :   0.0\n",
      "         22 :  None : -2.6645352591003757e-14 :   0.0\n",
      "         23 :  None :  -2.930988785010413e-14 :   0.0\n",
      "         24 :  None :  -3.730349362740526e-14 :   0.0\n",
      "         25 :  None :      -4.052264444532126 :   0.0\n",
      "         26 :  None :      -5.404889411436667 :   0.0\n",
      "         27 :  None :      -4.686915738341205 :   0.0\n",
      "         28 :  None :     -6.6174924052457555 :   0.0\n",
      "         29 :  None :       -11.2941323463093 :   0.0\n",
      "         30 :  None :     -11.152701688714796 :   0.0\n",
      "         31 :  None :     -10.433321595619336 :   0.0\n",
      "         32 :  None :     -10.291856118024818 :   0.0\n",
      "         33 :  None : -2.6117996654306808e-14 :   0.0\n",
      "         34 :  None :  -3.652633751016765e-14 :   0.0\n",
      "         35 :  None :  -3.122502256758253e-14 :   0.0\n",
      "         36 :  None : -2.7977620220553945e-14 :   0.0\n",
      "         37 :  None :  -3.425038030968608e-14 :   0.0\n",
      "         38 :  None :  -3.674572466414168e-14 :   0.0\n",
      "         39 :  None :    -0.43021520690457526 :   0.0\n",
      "         40 :  None :    -0.41274373380911034 :   0.0\n",
      "         41 :  None : -3.6637359812630166e-14 :   0.0\n",
      "         42 :  None :   -3.47499806707674e-14 :   0.0\n",
      "         43 :  None :    -0.39413621807706123 :   0.0\n"
     ]
    }
   ],
   "source": [
    "model.display()"
   ]
  },
  {
   "cell_type": "code",
   "execution_count": 47,
   "metadata": {},
   "outputs": [],
   "source": [
    "c = pyo.value(model.c)"
   ]
  },
  {
   "cell_type": "code",
   "execution_count": 48,
   "metadata": {},
   "outputs": [],
   "source": [
    "d = pyo.value(model.d)"
   ]
  },
  {
   "cell_type": "code",
   "execution_count": 49,
   "metadata": {},
   "outputs": [
    {
     "data": {
      "image/png": "[encoded data removed]",
      "text/plain": [
       "<Figure size 720x432 with 1 Axes>"
      ]
     },
     "metadata": {
      "needs_background": "light"
     },
     "output_type": "display_data"
    },
    {
     "name": "stdout",
     "output_type": "stream",
     "text": [
      "sk learn r2 = 0.9443813234997573\n",
      "our model r2 = 0.9440419911050367\n",
      "sk learn model is doing better\n"
     ]
    }
   ],
   "source": [
    "compare(c,d)"
   ]
  },
  {
   "cell_type": "code",
   "execution_count": null,
   "metadata": {},
   "outputs": [],
   "source": []
  }
 ],
 "metadata": {
  "kernelspec": {
   "display_name": "Python 3",
   "language": "python",
   "name": "python3"
  },
  "language_info": {
   "codemirror_mode": {
    "name": "ipython",
    "version": 3
   },
   "file_extension": ".py",
   "mimetype": "text/x-python",
   "name": "python",
   "nbconvert_exporter": "python",
   "pygments_lexer": "ipython3",
   "version": "3.7.3"
  }
 },
 "nbformat": 4,
 "nbformat_minor": 2
}
