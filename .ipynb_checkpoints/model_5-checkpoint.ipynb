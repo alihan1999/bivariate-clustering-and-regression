{
 "cells": [
  {
   "cell_type": "code",
   "execution_count": 1,
   "metadata": {},
   "outputs": [],
   "source": [
    "import pyomo.environ as pyo"
   ]
  },
  {
   "cell_type": "code",
   "execution_count": 2,
   "metadata": {},
   "outputs": [],
   "source": [
    "import numpy as np\n",
    "import pandas as pd\n",
    "\n"
   ]
  },
  {
   "cell_type": "code",
   "execution_count": 133,
   "metadata": {},
   "outputs": [],
   "source": [
    "data = pd.read_csv(\"DebrisFlow.txt\",sep ='\\t',header = None)"
   ]
  },
  {
   "cell_type": "code",
   "execution_count": 134,
   "metadata": {},
   "outputs": [],
   "source": [
    "model = pyo.ConcreteModel()"
   ]
  },
  {
   "cell_type": "code",
   "execution_count": 93,
   "metadata": {},
   "outputs": [],
   "source": [
    "M = [max( abs(data.iloc[i][1] - 0.29*data.iloc[i][0]-25) , abs(data.iloc[i][1] - 0.29*data.iloc[i][0]+94),\n",
    "        abs(data.iloc[i][1]-25) , abs(data.iloc[i][1] +94)) for i in range(len(data))]"
   ]
  },
  {
   "cell_type": "code",
   "execution_count": 135,
   "metadata": {},
   "outputs": [],
   "source": [
    "I = np.arange(len(data)) +1"
   ]
  },
  {
   "cell_type": "code",
   "execution_count": 136,
   "metadata": {},
   "outputs": [],
   "source": [
    "model.Iset = pyo.Set(initialize=I)\n",
    "model.I = pyo.Param(initialize=len(data))"
   ]
  },
  {
   "cell_type": "code",
   "execution_count": 137,
   "metadata": {},
   "outputs": [],
   "source": [
    "def rule_x(model,i):\n",
    "    return data.iloc[i-1][0]\n",
    "def rule_y(model,i):\n",
    "    return data.iloc[i-1][1]"
   ]
  },
  {
   "cell_type": "code",
   "execution_count": 138,
   "metadata": {},
   "outputs": [],
   "source": [
    "B = np.arange(3)+1"
   ]
  },
  {
   "cell_type": "code",
   "execution_count": 139,
   "metadata": {},
   "outputs": [],
   "source": [
    "model.Bset = pyo.Set(initialize=B)\n",
    "model.B = pyo.Param(initialize=len(B))"
   ]
  },
  {
   "cell_type": "code",
   "execution_count": 140,
   "metadata": {},
   "outputs": [],
   "source": [
    "model.X = pyo.Param(model.Iset,initialize=rule_x)"
   ]
  },
  {
   "cell_type": "code",
   "execution_count": 141,
   "metadata": {},
   "outputs": [],
   "source": [
    "model.Y = pyo.Param(model.Iset,initialize=rule_y)"
   ]
  },
  {
   "cell_type": "code",
   "execution_count": 142,
   "metadata": {},
   "outputs": [],
   "source": [
    "model.c = pyo.Var(model.Bset,domain=pyo.Reals)"
   ]
  },
  {
   "cell_type": "code",
   "execution_count": 143,
   "metadata": {},
   "outputs": [],
   "source": [
    "model.d = pyo.Var(model.Bset,domain=pyo.Reals)"
   ]
  },
  {
   "cell_type": "code",
   "execution_count": 144,
   "metadata": {},
   "outputs": [],
   "source": [
    "model.eps = pyo.Var(model.Iset,domain = pyo.NonNegativeReals)"
   ]
  },
  {
   "cell_type": "code",
   "execution_count": 145,
   "metadata": {},
   "outputs": [],
   "source": [
    "model.delta = pyo.Var(model.Iset,model.Bset,domain = pyo.Binary)"
   ]
  },
  {
   "cell_type": "code",
   "execution_count": 146,
   "metadata": {},
   "outputs": [],
   "source": [
    "def M_rule(model,i):\n",
    "    return M[i-1]"
   ]
  },
  {
   "cell_type": "code",
   "execution_count": 147,
   "metadata": {},
   "outputs": [],
   "source": [
    "model.M = pyo.Param(model.Iset,initialize=M_rule)"
   ]
  },
  {
   "cell_type": "code",
   "execution_count": 148,
   "metadata": {},
   "outputs": [],
   "source": [
    "def rule_const1(model,i,b):\n",
    "    return model.Y[i] - model.c[b]*model.X[i] - model.d[b] <= model.eps[i] + 133*(1-model.delta[i,b])"
   ]
  },
  {
   "cell_type": "code",
   "execution_count": 149,
   "metadata": {},
   "outputs": [],
   "source": [
    "model.const1 = pyo.Constraint(model.Iset,model.Bset,rule = rule_const1)"
   ]
  },
  {
   "cell_type": "code",
   "execution_count": 150,
   "metadata": {},
   "outputs": [],
   "source": [
    "def rule_const2(model,i,b):\n",
    "    return -1*model.Y[i] + model.c[b]*model.X[i] + model.d[b] <= model.eps[i] + 133*(1-model.delta[i,b])"
   ]
  },
  {
   "cell_type": "code",
   "execution_count": 151,
   "metadata": {},
   "outputs": [],
   "source": [
    "model.const2 = pyo.Constraint(model.Iset,model.Bset,rule=rule_const2)"
   ]
  },
  {
   "cell_type": "code",
   "execution_count": 152,
   "metadata": {},
   "outputs": [],
   "source": [
    "def rule_const3(model,i):\n",
    "    return sum(model.delta[i,b] for b in model.Bset) == 1"
   ]
  },
  {
   "cell_type": "code",
   "execution_count": 153,
   "metadata": {},
   "outputs": [],
   "source": [
    "model.const3 = pyo.Constraint(model.Iset,rule=rule_const3)"
   ]
  },
  {
   "cell_type": "code",
   "execution_count": 154,
   "metadata": {},
   "outputs": [],
   "source": [
    "def rule_const_4(model,i,b):\n",
    "    \n",
    "    if i==model.I:\n",
    "        return pyo.Constraint.Skip\n",
    "    \n",
    "    if b == model.B:\n",
    "        return pyo.Constraint.Skip\n",
    "    \n",
    "    return model.delta[i+1,b+1] <= model.delta[i,b] + model.delta[i,b+1]"
   ]
  },
  {
   "cell_type": "code",
   "execution_count": 155,
   "metadata": {},
   "outputs": [],
   "source": [
    "model.const4 = pyo.Constraint(model.Iset,model.Bset,rule = rule_const_4)"
   ]
  },
  {
   "cell_type": "code",
   "execution_count": 156,
   "metadata": {},
   "outputs": [],
   "source": [
    "def rule_const_5(model,i):\n",
    "    \n",
    "    if i==model.I:\n",
    "        return pyo.Constraint.Skip\n",
    " \n",
    "    \n",
    "    return model.delta[i+1,1] <= model.delta[i,1] "
   ]
  },
  {
   "cell_type": "code",
   "execution_count": 157,
   "metadata": {},
   "outputs": [],
   "source": [
    "model.const5 = pyo.Constraint(model.Iset,rule = rule_const_5)"
   ]
  },
  {
   "cell_type": "code",
   "execution_count": 158,
   "metadata": {},
   "outputs": [],
   "source": [
    "def rule_const_6(model,i):\n",
    "    \n",
    "    if i==model.I:\n",
    "        return pyo.Constraint.Skip\n",
    " \n",
    "    \n",
    "    return model.delta[i,model.B] <= model.delta[i+1,model.B] "
   ]
  },
  {
   "cell_type": "code",
   "execution_count": 159,
   "metadata": {},
   "outputs": [],
   "source": [
    "model.const6 = pyo.Constraint(model.Iset, rule = rule_const_6)"
   ]
  },
  {
   "cell_type": "code",
   "execution_count": 160,
   "metadata": {},
   "outputs": [],
   "source": [
    "def rule_obj(model):\n",
    "    return sum(model.eps[i] for i in model.Iset)"
   ]
  },
  {
   "cell_type": "code",
   "execution_count": 161,
   "metadata": {},
   "outputs": [],
   "source": [
    "model.obj = pyo.Objective(rule=rule_obj,sense = pyo.minimize)"
   ]
  },
  {
   "cell_type": "code",
   "execution_count": 162,
   "metadata": {},
   "outputs": [],
   "source": [
    "solver = pyo.SolverFactory('glpk')"
   ]
  },
  {
   "cell_type": "code",
   "execution_count": 163,
   "metadata": {},
   "outputs": [],
   "source": [
    "opt = {'tmlim':1200}"
   ]
  },
  {
   "cell_type": "code",
   "execution_count": 164,
   "metadata": {},
   "outputs": [],
   "source": [
    "result = solver.solve(model, options = opt)"
   ]
  },
  {
   "cell_type": "code",
   "execution_count": 165,
   "metadata": {},
   "outputs": [
    {
     "name": "stdout",
     "output_type": "stream",
     "text": [
      "\n",
      "Problem: \n",
      "- Name: unknown\n",
      "  Lower bound: 11.1292384602922\n",
      "  Upper bound: 11.1292384602922\n",
      "  Number of objectives: 1\n",
      "  Number of constraints: 481\n",
      "  Number of variables: 183\n",
      "  Number of nonzeros: 1619\n",
      "  Sense: minimize\n",
      "Solver: \n",
      "- Status: ok\n",
      "  Termination condition: optimal\n",
      "  Statistics: \n",
      "    Branch and bound: \n",
      "      Number of bounded subproblems: 167\n",
      "      Number of created subproblems: 167\n",
      "  Error rc: 0\n",
      "  Time: 0.8042027950286865\n",
      "Solution: \n",
      "- number of solutions: 0\n",
      "  number of solutions displayed: 0\n",
      "\n"
     ]
    }
   ],
   "source": [
    "print(result)"
   ]
  },
  {
   "cell_type": "code",
   "execution_count": 166,
   "metadata": {},
   "outputs": [],
   "source": [
    "c = [pyo.value(model.c[i]) for i in model.Bset]"
   ]
  },
  {
   "cell_type": "code",
   "execution_count": 167,
   "metadata": {},
   "outputs": [],
   "source": [
    "d =[pyo.value(model.d[i]) for i in model.Bset]"
   ]
  },
  {
   "cell_type": "code",
   "execution_count": 168,
   "metadata": {},
   "outputs": [],
   "source": [
    "lines = [[cc,dd] for cc,dd in zip(c,d)]"
   ]
  },
  {
   "cell_type": "code",
   "execution_count": 169,
   "metadata": {},
   "outputs": [],
   "source": [
    "import matplotlib.pyplot as plt\n"
   ]
  },
  {
   "cell_type": "code",
   "execution_count": 170,
   "metadata": {},
   "outputs": [],
   "source": [
    "clss = [[],[],[]]\n",
    "for i in range(len(data)):\n",
    "    cls = 0\n",
    "    val = 0\n",
    "    for j in range(3):\n",
    "        s,ii = lines[j]\n",
    "        if j==0:\n",
    "            val = abs(data.iloc[i][1] - s*data.iloc[i][0]-ii)\n",
    "            cls = 0\n",
    "        elif abs(data.iloc[i][1] - s*data.iloc[i][0]-ii) < val:\n",
    "            val = abs(data.iloc[i][1] - s*data.iloc[i][0]-ii)\n",
    "            cls = j\n",
    "    clss[cls].append(i)"
   ]
  },
  {
   "cell_type": "code",
   "execution_count": 171,
   "metadata": {},
   "outputs": [
    {
     "data": {
      "image/png": "[encoded data removed]",
      "text/plain": [
       "<Figure size 720x432 with 1 Axes>"
      ]
     },
     "metadata": {
      "needs_background": "light"
     },
     "output_type": "display_data"
    }
   ],
   "source": [
    "plt.figure(figsize=(10,6))\n",
    "i=1\n",
    "for cc,dd in zip(c,d):\n",
    "    plt.plot(data[0],cc*data[0]+dd,label=f\"cluster{i}\")\n",
    "    i+=1\n",
    "plt.legend()  \n",
    "for j in range(3):\n",
    "    \n",
    "    x = [data.iloc[i][0] for i in clss[j]]\n",
    "    y = [data.iloc[i][1] for i in clss[j]]\n",
    "    plt.scatter(x,y)\n",
    "\n",
    "\n",
    "plt.show()\n"
   ]
  },
  {
   "cell_type": "code",
   "execution_count": null,
   "metadata": {},
   "outputs": [],
   "source": []
  },
  {
   "cell_type": "code",
   "execution_count": null,
   "metadata": {},
   "outputs": [],
   "source": []
  }
 ],
 "metadata": {
  "kernelspec": {
   "display_name": "Python 3",
   "language": "python",
   "name": "python3"
  },
  "language_info": {
   "codemirror_mode": {
    "name": "ipython",
    "version": 3
   },
   "file_extension": ".py",
   "mimetype": "text/x-python",
   "name": "python",
   "nbconvert_exporter": "python",
   "pygments_lexer": "ipython3",
   "version": "3.7.3"
  }
 },
 "nbformat": 4,
 "nbformat_minor": 2
}
