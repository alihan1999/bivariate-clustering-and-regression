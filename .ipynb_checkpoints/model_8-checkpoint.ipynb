{
 "cells": [
  {
   "cell_type": "code",
   "execution_count": 243,
   "metadata": {},
   "outputs": [],
   "source": [
    "import pyomo.environ as pyo\n",
    "import numpy as np\n",
    "import pandas as pd"
   ]
  },
  {
   "cell_type": "code",
   "execution_count": 244,
   "metadata": {},
   "outputs": [],
   "source": [
    "data = pd.read_csv(\"DebrisFlow.txt\",sep ='\\t',header = None)"
   ]
  },
  {
   "cell_type": "code",
   "execution_count": 581,
   "metadata": {},
   "outputs": [],
   "source": [
    "model = pyo.ConcreteModel()"
   ]
  },
  {
   "cell_type": "code",
   "execution_count": 582,
   "metadata": {},
   "outputs": [],
   "source": [
    "I = np.arange(len(data)) + 1"
   ]
  },
  {
   "cell_type": "code",
   "execution_count": 583,
   "metadata": {},
   "outputs": [],
   "source": [
    "B = np.arange(6)+1\n"
   ]
  },
  {
   "cell_type": "code",
   "execution_count": 584,
   "metadata": {},
   "outputs": [],
   "source": [
    "model.Iset = pyo.Set(initialize=I)"
   ]
  },
  {
   "cell_type": "code",
   "execution_count": 585,
   "metadata": {},
   "outputs": [],
   "source": [
    "model.Bset = pyo.Set(initialize=B)"
   ]
  },
  {
   "cell_type": "code",
   "execution_count": 586,
   "metadata": {},
   "outputs": [],
   "source": [
    "model.I = pyo.Param(initialize=len(I))"
   ]
  },
  {
   "cell_type": "code",
   "execution_count": 587,
   "metadata": {},
   "outputs": [],
   "source": [
    "model.B = pyo.Param(initialize=len(B))"
   ]
  },
  {
   "cell_type": "code",
   "execution_count": 588,
   "metadata": {},
   "outputs": [],
   "source": [
    "M = [max( abs(data.iloc[i][1] - 0.29*data.iloc[i][0]-25) , abs(data.iloc[i][1] - 0.29*data.iloc[i][0]+94),\n",
    "        abs(data.iloc[i][1]-25) , abs(data.iloc[i][1] +94)) for i in range(len(data))]\n",
    "\n",
    "M2 = [199+0.3*data.iloc[i][0] for i in range(len(data))]"
   ]
  },
  {
   "cell_type": "code",
   "execution_count": 589,
   "metadata": {},
   "outputs": [],
   "source": [
    "def M_rule(model,i):\n",
    "    return M[i-1]\n",
    "\n",
    "def M2_rule(model,i):\n",
    "    return M2[i-1]"
   ]
  },
  {
   "cell_type": "code",
   "execution_count": 590,
   "metadata": {},
   "outputs": [],
   "source": [
    "model.M = pyo.Param(model.Iset,initialize=M_rule)\n",
    "model.M2 = pyo.Param(model.Iset,initialize=M2_rule)"
   ]
  },
  {
   "cell_type": "code",
   "execution_count": 591,
   "metadata": {},
   "outputs": [],
   "source": [
    "def rule_x(model,i):\n",
    "    return data.iloc[i-1][0]\n",
    "def rule_y(model,i):\n",
    "    return data.iloc[i-1][1]"
   ]
  },
  {
   "cell_type": "code",
   "execution_count": 592,
   "metadata": {},
   "outputs": [],
   "source": [
    "model.X = pyo.Param(model.Iset,initialize=rule_x)\n",
    "model.Y = pyo.Param(model.Iset,initialize=rule_y)"
   ]
  },
  {
   "cell_type": "code",
   "execution_count": 593,
   "metadata": {},
   "outputs": [],
   "source": [
    "model.c = pyo.Var(model.Bset,domain=pyo.Reals)\n",
    "model.d = pyo.Var(model.Bset,domain=pyo.Reals)"
   ]
  },
  {
   "cell_type": "code",
   "execution_count": 594,
   "metadata": {},
   "outputs": [],
   "source": [
    "model.eps = pyo.Var(model.Iset,domain = pyo.NonNegativeReals)"
   ]
  },
  {
   "cell_type": "code",
   "execution_count": 595,
   "metadata": {},
   "outputs": [],
   "source": [
    "model.delta = pyo.Var(model.Iset,model.Bset,domain = pyo.Binary)"
   ]
  },
  {
   "cell_type": "code",
   "execution_count": 596,
   "metadata": {},
   "outputs": [],
   "source": [
    "model.deltap = pyo.Var(model.Iset,model.Bset,domain=pyo.Reals, bounds=(0,1))\n",
    "model.deltan = pyo.Var(model.Iset,model.Bset,domain=pyo.Reals, bounds=(0,1))"
   ]
  },
  {
   "cell_type": "code",
   "execution_count": 597,
   "metadata": {},
   "outputs": [],
   "source": [
    "model.gamma = pyo.Var(model.Bset,domain=pyo.Binary)"
   ]
  },
  {
   "cell_type": "code",
   "execution_count": 598,
   "metadata": {},
   "outputs": [],
   "source": [
    "model.Z = pyo.Var(model.Bset,domain=pyo.Binary)"
   ]
  },
  {
   "cell_type": "code",
   "execution_count": 599,
   "metadata": {},
   "outputs": [],
   "source": [
    "k = 3\n",
    "\n",
    "model.k = pyo.Param(initialize=k)"
   ]
  },
  {
   "cell_type": "markdown",
   "metadata": {},
   "source": [
    "# constraint 1\n"
   ]
  },
  {
   "cell_type": "code",
   "execution_count": 600,
   "metadata": {},
   "outputs": [],
   "source": [
    "def rc1(model,i,b):\n",
    "    \n",
    "    if b > model.B - model.k:\n",
    "        return pyo.Constraint.Skip\n",
    "    \n",
    "    return model.Y[i] - (model.c[b]*model.X[i]+model.d[b]) <= model.eps[i] + model.M[i]*(1-model.delta[i,b])"
   ]
  },
  {
   "cell_type": "code",
   "execution_count": 601,
   "metadata": {},
   "outputs": [],
   "source": [
    "model.const1 = pyo.Constraint(model.Iset,model.Bset,rule = rc1)"
   ]
  },
  {
   "cell_type": "markdown",
   "metadata": {},
   "source": [
    "# constraint 2\n"
   ]
  },
  {
   "cell_type": "code",
   "execution_count": 602,
   "metadata": {},
   "outputs": [],
   "source": [
    "def rc2(model,i,b):\n",
    "    \n",
    "    if b > model.B - model.k:\n",
    "        return pyo.Constraint.Skip\n",
    "    \n",
    "    return (model.c[b]*model.X[i]+model.d[b]) - model.Y[i]  <= model.eps[i] + model.M[i]*(1-model.delta[i,b])"
   ]
  },
  {
   "cell_type": "code",
   "execution_count": 603,
   "metadata": {},
   "outputs": [],
   "source": [
    "model.const2 = pyo.Constraint(model.Iset,model.Bset,rule = rc2)"
   ]
  },
  {
   "cell_type": "markdown",
   "metadata": {},
   "source": [
    "# constraint 3\n"
   ]
  },
  {
   "cell_type": "code",
   "execution_count": 604,
   "metadata": {},
   "outputs": [],
   "source": [
    "def rc3(model,i):\n",
    "    \n",
    "    return sum(model.delta[i,b] for b in model.Bset if b<=model.B-model.k) == 1"
   ]
  },
  {
   "cell_type": "code",
   "execution_count": 605,
   "metadata": {},
   "outputs": [],
   "source": [
    "model.const3 = pyo.Constraint(model.Iset,rule=rc3)"
   ]
  },
  {
   "cell_type": "markdown",
   "metadata": {},
   "source": [
    "# constraint 4\n"
   ]
  },
  {
   "cell_type": "code",
   "execution_count": 606,
   "metadata": {},
   "outputs": [],
   "source": [
    "def rc4(model,i,b):\n",
    "    \n",
    "    if i == model.I:\n",
    "        return pyo.Constraint.Skip\n",
    "    \n",
    "    if b > model.B - model.k - 1:\n",
    "        return pyo.Constraint.Skip\n",
    "\n",
    "    \n",
    "    return model.delta[i+1,b+1] <= model.delta[i,b] + model.delta[i,b+1]"
   ]
  },
  {
   "cell_type": "code",
   "execution_count": 607,
   "metadata": {},
   "outputs": [],
   "source": [
    "model.const4 = pyo.Constraint(model.Iset,model.Bset,rule=rc4)"
   ]
  },
  {
   "cell_type": "markdown",
   "metadata": {},
   "source": [
    "# constraint 5\n"
   ]
  },
  {
   "cell_type": "code",
   "execution_count": 608,
   "metadata": {},
   "outputs": [],
   "source": [
    "def rc5(model,i):\n",
    "    \n",
    "    if i == model.I:\n",
    "        return pyo.Constraint.Skip\n",
    "    \n",
    "    return model.delta[i+1,1] <= model.delta[i,1]"
   ]
  },
  {
   "cell_type": "code",
   "execution_count": 609,
   "metadata": {},
   "outputs": [],
   "source": [
    "model.const5 = pyo.Constraint(model.Iset,rule=rc5)"
   ]
  },
  {
   "cell_type": "markdown",
   "metadata": {},
   "source": [
    "# constraint 6\n"
   ]
  },
  {
   "cell_type": "code",
   "execution_count": 610,
   "metadata": {},
   "outputs": [],
   "source": [
    "def rc6(model,i):\n",
    "    \n",
    "    if i == model.I:\n",
    "        return pyo.Constraint.Skip\n",
    "    \n",
    "    return model.delta[i,model.B-model.k] <= model.delta[i+1,model.B - model.k]"
   ]
  },
  {
   "cell_type": "code",
   "execution_count": 611,
   "metadata": {},
   "outputs": [],
   "source": [
    "model.const6 = pyo.Constraint(model.Iset,rule=rc6)"
   ]
  },
  {
   "cell_type": "markdown",
   "metadata": {},
   "source": [
    "# constraint 7\n"
   ]
  },
  {
   "cell_type": "code",
   "execution_count": 612,
   "metadata": {},
   "outputs": [],
   "source": [
    "def rc7(model):\n",
    "    return sum(model.Z[b] for b in model.Bset if b <= model.B-model.k-1) == model.k - 1"
   ]
  },
  {
   "cell_type": "code",
   "execution_count": 613,
   "metadata": {},
   "outputs": [],
   "source": [
    "model.const7 = pyo.Constraint(rule=rc7)"
   ]
  },
  {
   "cell_type": "markdown",
   "metadata": {},
   "source": [
    "# constraint 8\n"
   ]
  },
  {
   "cell_type": "code",
   "execution_count": 614,
   "metadata": {},
   "outputs": [],
   "source": [
    "def rc8(model,i,b):\n",
    "    if i == model.I:\n",
    "        return pyo.Constraint.Skip\n",
    "    if b > model.B - model.k - 1:\n",
    "        return pyo.Constraint.Skip\n",
    "    return model.delta[i,b] + model.delta[i+1,b+1] + model.gamma[b] - 2 <= model.deltap[i,b] + model.Z[b]"
   ]
  },
  {
   "cell_type": "code",
   "execution_count": 615,
   "metadata": {},
   "outputs": [],
   "source": [
    "model.const8 = pyo.Constraint(model.Iset, model.Bset, rule=rc8)"
   ]
  },
  {
   "cell_type": "markdown",
   "metadata": {},
   "source": [
    "# constraint 9\n"
   ]
  },
  {
   "cell_type": "code",
   "execution_count": 616,
   "metadata": {},
   "outputs": [],
   "source": [
    "def rc9(model,i,b):\n",
    "    if i == model.I:\n",
    "        return pyo.Constraint.Skip\n",
    "    if b > model.B - model.k - 1:\n",
    "        return pyo.Constraint.Skip\n",
    "    return model.delta[i,b] + model.delta[i+1,b+1] + 1 - model.gamma[b] - 2 <= model.deltan[i,b] + model.Z[b]"
   ]
  },
  {
   "cell_type": "code",
   "execution_count": 617,
   "metadata": {},
   "outputs": [],
   "source": [
    "model.const9 = pyo.Constraint(model.Iset,model.Bset,rule=rc9)"
   ]
  },
  {
   "cell_type": "markdown",
   "metadata": {},
   "source": [
    "# constraint 10\n"
   ]
  },
  {
   "cell_type": "code",
   "execution_count": 618,
   "metadata": {},
   "outputs": [],
   "source": [
    "def rc10(model,i,b):\n",
    "    \n",
    "    if i == model.I:\n",
    "        return pyo.Constraint.Skip\n",
    "    if b > model.B - model.k - 1:\n",
    "        return pyo.Constraint.Skip\n",
    "    \n",
    "    return model.d[b+1] - model.d[b] >= model.X[i]*(model.c[b] - model.c[b+1]) - model.M2[i]*(1-model.deltap[i,b])"
   ]
  },
  {
   "cell_type": "code",
   "execution_count": 619,
   "metadata": {},
   "outputs": [],
   "source": [
    "model.const10 = pyo.Constraint(model.Iset,model.Bset,rule=rc10)"
   ]
  },
  {
   "cell_type": "markdown",
   "metadata": {},
   "source": [
    "# constraint 11\n"
   ]
  },
  {
   "cell_type": "code",
   "execution_count": 620,
   "metadata": {},
   "outputs": [],
   "source": [
    "def rc11(model,i,b):\n",
    "    \n",
    "    if i == model.I:\n",
    "        return pyo.Constraint.Skip\n",
    "    if b > model.B - model.k - 1:\n",
    "        return pyo.Constraint.Skip\n",
    "    \n",
    "    return model.d[b+1] - model.d[b] <= model.X[i+1]*(model.c[b] - model.c[b+1]) - model.M2[i+1]*(1-model.deltap[i,b])"
   ]
  },
  {
   "cell_type": "code",
   "execution_count": 621,
   "metadata": {},
   "outputs": [],
   "source": [
    "model.const11 = pyo.Constraint(model.Iset,model.Bset,rule=rc11)"
   ]
  },
  {
   "cell_type": "markdown",
   "metadata": {},
   "source": [
    "# constraint 12\n"
   ]
  },
  {
   "cell_type": "code",
   "execution_count": 622,
   "metadata": {},
   "outputs": [],
   "source": [
    "def rc12(model,i,b):\n",
    "    \n",
    "    if i == model.I:\n",
    "        return pyo.Constraint.Skip\n",
    "    if b > model.B - model.k - 1:\n",
    "        return pyo.Constraint.Skip\n",
    "    \n",
    "    return model.d[b+1] - model.d[b] <= model.X[i]*(model.c[b] - model.c[b+1]) - model.M2[i]*(1-model.deltan[i,b])"
   ]
  },
  {
   "cell_type": "code",
   "execution_count": 623,
   "metadata": {},
   "outputs": [],
   "source": [
    "model.const12 = pyo.Constraint(model.Iset,model.Bset,rule=rc12)"
   ]
  },
  {
   "cell_type": "markdown",
   "metadata": {},
   "source": [
    "# constraint 13\n"
   ]
  },
  {
   "cell_type": "code",
   "execution_count": 624,
   "metadata": {},
   "outputs": [],
   "source": [
    "def rc13(model,i,b):\n",
    "    \n",
    "    if i == model.I:\n",
    "        return pyo.Constraint.Skip\n",
    "    if b > model.B - model.k - 1:\n",
    "        return pyo.Constraint.Skip\n",
    "    \n",
    "    return model.d[b+1] - model.d[b] >= model.X[i+1]*(model.c[b] - model.c[b+1]) - model.M2[i+1]*(1-model.deltan[i,b])"
   ]
  },
  {
   "cell_type": "code",
   "execution_count": 625,
   "metadata": {},
   "outputs": [],
   "source": [
    "model.const13 = pyo.Constraint(model.Iset,model.Bset,rule=rc13)"
   ]
  },
  {
   "cell_type": "markdown",
   "metadata": {},
   "source": [
    "# constraint 14"
   ]
  },
  {
   "cell_type": "code",
   "execution_count": 626,
   "metadata": {},
   "outputs": [],
   "source": [
    "def rc14(model,b):\n",
    "    if b > model.B-model.k:\n",
    "        return pyo.Constraint.Skip\n",
    "    \n",
    "    return sum(model.delta[i,b] for i in model.Iset) >= 2"
   ]
  },
  {
   "cell_type": "code",
   "execution_count": 627,
   "metadata": {},
   "outputs": [],
   "source": [
    "model.const14 = pyo.Constraint(model.Bset,rule=rc14)"
   ]
  },
  {
   "cell_type": "markdown",
   "metadata": {},
   "source": [
    "# objective"
   ]
  },
  {
   "cell_type": "code",
   "execution_count": 628,
   "metadata": {},
   "outputs": [],
   "source": [
    "def ro(model):\n",
    "    return sum(model.eps[i] for i in model.Iset)"
   ]
  },
  {
   "cell_type": "code",
   "execution_count": 629,
   "metadata": {},
   "outputs": [],
   "source": [
    "model.obj = pyo.Objective(rule=ro,sense = pyo.minimize)"
   ]
  },
  {
   "cell_type": "markdown",
   "metadata": {},
   "source": [
    "# solution"
   ]
  },
  {
   "cell_type": "code",
   "execution_count": 630,
   "metadata": {},
   "outputs": [],
   "source": [
    "solver = pyo.SolverFactory('glpk')"
   ]
  },
  {
   "cell_type": "code",
   "execution_count": 631,
   "metadata": {},
   "outputs": [],
   "source": [
    "opt = {'tmlim':1200}"
   ]
  },
  {
   "cell_type": "code",
   "execution_count": 632,
   "metadata": {},
   "outputs": [],
   "source": [
    "result = solver.solve(model,'glpk')"
   ]
  },
  {
   "cell_type": "code",
   "execution_count": 633,
   "metadata": {},
   "outputs": [],
   "source": [
    "import matplotlib.pyplot as plt"
   ]
  },
  {
   "cell_type": "code",
   "execution_count": 640,
   "metadata": {},
   "outputs": [],
   "source": [
    "markers = {1:'s',2:'P',3:'*',4:'D',5:'V'}"
   ]
  },
  {
   "cell_type": "code",
   "execution_count": 635,
   "metadata": {},
   "outputs": [],
   "source": [
    "cc = [pyo.value(model.c[b]) for b in model.Bset if b<=model.B-model.k]\n",
    "dd = [pyo.value(model.d[b]) for b in model.Bset if b<=model.B-model.k]"
   ]
  },
  {
   "cell_type": "code",
   "execution_count": 636,
   "metadata": {},
   "outputs": [
    {
     "name": "stdout",
     "output_type": "stream",
     "text": [
      "[0.108597316443998, 0.103412864102736, 0.0972624015756342]\n",
      "[-2.35785943753076, -5.79687949056867, -9.87668630021261]\n"
     ]
    }
   ],
   "source": [
    "print(cc)\n",
    "print(dd)"
   ]
  },
  {
   "cell_type": "markdown",
   "metadata": {},
   "source": [
    "# 6 breakpoints, 3 clusters"
   ]
  },
  {
   "cell_type": "code",
   "execution_count": 638,
   "metadata": {},
   "outputs": [
    {
     "name": "stdout",
     "output_type": "stream",
     "text": [
      "\n",
      "Problem: \n",
      "- Name: unknown\n",
      "  Lower bound: 65.05222761241\n",
      "  Upper bound: 65.05222761241\n",
      "  Number of objectives: 1\n",
      "  Number of constraints: 1001\n",
      "  Number of variables: 359\n",
      "  Number of nonzeros: 4333\n",
      "  Sense: minimize\n",
      "Solver: \n",
      "- Status: ok\n",
      "  Termination condition: optimal\n",
      "  Statistics: \n",
      "    Branch and bound: \n",
      "      Number of bounded subproblems: 533\n",
      "      Number of created subproblems: 533\n",
      "  Error rc: 0\n",
      "  Time: 2.8897366523742676\n",
      "Solution: \n",
      "- number of solutions: 0\n",
      "  number of solutions displayed: 0\n",
      "\n"
     ]
    }
   ],
   "source": [
    "print(result)"
   ]
  },
  {
   "cell_type": "code",
   "execution_count": 649,
   "metadata": {},
   "outputs": [
    {
     "data": {
      "image/png": "[encoded data removed]",
      "text/plain": [
       "<Figure size 720x432 with 1 Axes>"
      ]
     },
     "metadata": {
      "needs_background": "light"
     },
     "output_type": "display_data"
    }
   ],
   "source": [
    "m = 1\n",
    "plt.figure(figsize=(10,6))\n",
    "for b in model.Bset:\n",
    "    \n",
    "    \n",
    "    if b > model.B - model.k:\n",
    "        break\n",
    "    cc = pyo.value(model.c[b])\n",
    "    dd = pyo.value(model.d[b])\n",
    "    \n",
    "    if b<=model.B-model.k-1 and pyo.value(model.Z[b])==1:\n",
    "        m+=1\n",
    "    \n",
    "    x = []\n",
    "    y = []\n",
    "    y_org = []\n",
    "    \n",
    "    for i in model.Iset:\n",
    "        if pyo.value(model.delta[i,b]) == 1:\n",
    "            x.append(pyo.value(model.X[i]))\n",
    "            y.append(cc*pyo.value(model.X[i])+dd)\n",
    "            y_org.append(pyo.value(model.Y[i]))\n",
    "\n",
    "    plt.scatter(x,y_org,marker=markers[m])\n",
    "    plt.plot(x,y)\n",
    "\n",
    "plt.show()"
   ]
  },
  {
   "cell_type": "code",
   "execution_count": null,
   "metadata": {},
   "outputs": [],
   "source": []
  }
 ],
 "metadata": {
  "kernelspec": {
   "display_name": "Python 3",
   "language": "python",
   "name": "python3"
  },
  "language_info": {
   "codemirror_mode": {
    "name": "ipython",
    "version": 3
   },
   "file_extension": ".py",
   "mimetype": "text/x-python",
   "name": "python",
   "nbconvert_exporter": "python",
   "pygments_lexer": "ipython3",
   "version": "3.7.3"
  }
 },
 "nbformat": 4,
 "nbformat_minor": 2
}
