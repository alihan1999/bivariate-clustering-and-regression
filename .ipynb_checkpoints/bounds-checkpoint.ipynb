{
 "cells": [
  {
   "cell_type": "code",
   "execution_count": 52,
   "metadata": {},
   "outputs": [],
   "source": [
    "import pandas as pd\n",
    "from sklearn.linear_model import LinearRegression"
   ]
  },
  {
   "cell_type": "code",
   "execution_count": 53,
   "metadata": {},
   "outputs": [],
   "source": [
    "import numpy as np\n"
   ]
  },
  {
   "cell_type": "code",
   "execution_count": 54,
   "metadata": {},
   "outputs": [],
   "source": [
    "data = pd.read_csv(\"DebrisFlow.txt\",sep='\\t',header=None)"
   ]
  },
  {
   "cell_type": "code",
   "execution_count": 55,
   "metadata": {},
   "outputs": [],
   "source": [
    "data = {'X':data[0] , 'Y':data[1]}\n"
   ]
  },
  {
   "cell_type": "code",
   "execution_count": 56,
   "metadata": {},
   "outputs": [],
   "source": [
    "data = pd.DataFrame(data)"
   ]
  },
  {
   "cell_type": "code",
   "execution_count": 57,
   "metadata": {},
   "outputs": [],
   "source": [
    "lower_s = 0\n",
    "upper_s = 0\n",
    "\n",
    "lower_i = 0\n",
    "upper_i = 0"
   ]
  },
  {
   "cell_type": "code",
   "execution_count": 60,
   "metadata": {},
   "outputs": [],
   "source": [
    "for i in range(len(data)):\n",
    "    for j in range(i+1,len(data)):\n",
    "        \n",
    "        x1 = data.iloc[i]\n",
    "        x2 = data.iloc[j]\n",
    "        \n",
    "        x = np.array([x1[0],x2[0]])\n",
    "        y = np.array([x1[1],x2[1]])\n",
    "        x = x.reshape(-1,1)\n",
    "        y = y.reshape(-1,1)\n",
    "        \n",
    "        \n",
    "        reg = LinearRegression().fit(x,y)\n",
    "        \n",
    "        \n",
    "        \n",
    "        if i==0 and j==1:\n",
    "            lower_s = reg.coef_[0]\n",
    "            upper_s = reg.coef_[0]\n",
    "            \n",
    "            lower_i = reg.intercept_\n",
    "            upper_i = reg.intercept_\n",
    "        else:\n",
    "            lower_s = min(mn,reg.coef_[0])\n",
    "            upper_s = max(mx,reg.coef_[0])\n",
    "            \n",
    "            lower_i = min(lower_i,reg.intercept_)\n",
    "            upper_i = max(upper_i,reg.intercept_)\n",
    "        \n",
    "            "
   ]
  },
  {
   "cell_type": "markdown",
   "metadata": {},
   "source": [
    "# bounds\n",
    "\n"
   ]
  },
  {
   "cell_type": "code",
   "execution_count": 62,
   "metadata": {},
   "outputs": [
    {
     "name": "stdout",
     "output_type": "stream",
     "text": [
      "[0.] [0.28588295]\n"
     ]
    }
   ],
   "source": [
    "print(lower_s,upper_s)"
   ]
  },
  {
   "cell_type": "code",
   "execution_count": 63,
   "metadata": {},
   "outputs": [
    {
     "name": "stdout",
     "output_type": "stream",
     "text": [
      "[-93.82014821] [24.75005176]\n"
     ]
    }
   ],
   "source": [
    "print(lower_i,upper_i)"
   ]
  },
  {
   "cell_type": "code",
   "execution_count": null,
   "metadata": {},
   "outputs": [],
   "source": []
  }
 ],
 "metadata": {
  "kernelspec": {
   "display_name": "Python 3",
   "language": "python",
   "name": "python3"
  },
  "language_info": {
   "codemirror_mode": {
    "name": "ipython",
    "version": 3
   },
   "file_extension": ".py",
   "mimetype": "text/x-python",
   "name": "python",
   "nbconvert_exporter": "python",
   "pygments_lexer": "ipython3",
   "version": "3.7.3"
  }
 },
 "nbformat": 4,
 "nbformat_minor": 2
}
