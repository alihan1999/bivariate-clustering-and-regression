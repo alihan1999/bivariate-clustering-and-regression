{
 "cells": [
  {
   "cell_type": "code",
   "execution_count": 780,
   "metadata": {},
   "outputs": [],
   "source": [
    "import pyomo.environ as pyo\n",
    "import numpy as np\n",
    "import pandas as pd"
   ]
  },
  {
   "cell_type": "code",
   "execution_count": 244,
   "metadata": {},
   "outputs": [],
   "source": [
    "data = pd.read_csv(\"DebrisFlow.txt\",sep ='\\t',header = None)"
   ]
  },
  {
   "cell_type": "code",
   "execution_count": 963,
   "metadata": {},
   "outputs": [],
   "source": [
    "model = pyo.ConcreteModel()"
   ]
  },
  {
   "cell_type": "code",
   "execution_count": 964,
   "metadata": {},
   "outputs": [],
   "source": [
    "I = np.arange(len(data)) + 1"
   ]
  },
  {
   "cell_type": "code",
   "execution_count": 965,
   "metadata": {},
   "outputs": [],
   "source": [
    "B = np.arange(9)+1\n"
   ]
  },
  {
   "cell_type": "code",
   "execution_count": 966,
   "metadata": {},
   "outputs": [],
   "source": [
    "model.Iset = pyo.Set(initialize=I)"
   ]
  },
  {
   "cell_type": "code",
   "execution_count": 967,
   "metadata": {},
   "outputs": [],
   "source": [
    "model.Bset = pyo.Set(initialize=B)"
   ]
  },
  {
   "cell_type": "code",
   "execution_count": 968,
   "metadata": {},
   "outputs": [],
   "source": [
    "model.I = pyo.Param(initialize=len(I))"
   ]
  },
  {
   "cell_type": "code",
   "execution_count": 969,
   "metadata": {},
   "outputs": [],
   "source": [
    "model.B = pyo.Param(initialize=len(B))"
   ]
  },
  {
   "cell_type": "code",
   "execution_count": 970,
   "metadata": {},
   "outputs": [],
   "source": [
    "M = [max( abs(data.iloc[i][1] - 0.29*data.iloc[i][0]-25) , abs(data.iloc[i][1] - 0.29*data.iloc[i][0]+94),\n",
    "        abs(data.iloc[i][1]-25) , abs(data.iloc[i][1] +94)) for i in range(len(data))]\n",
    "\n",
    "M2 = [199+0.3*data.iloc[i][0] for i in range(len(data))]"
   ]
  },
  {
   "cell_type": "code",
   "execution_count": 971,
   "metadata": {},
   "outputs": [],
   "source": [
    "def M_rule(model,i):\n",
    "    return M[i-1]\n",
    "\n",
    "def M2_rule(model,i):\n",
    "    return M2[i-1]"
   ]
  },
  {
   "cell_type": "code",
   "execution_count": 972,
   "metadata": {},
   "outputs": [],
   "source": [
    "model.M = pyo.Param(model.Iset,initialize=M_rule)\n",
    "model.M2 = pyo.Param(model.Iset,initialize=M2_rule)"
   ]
  },
  {
   "cell_type": "code",
   "execution_count": 973,
   "metadata": {},
   "outputs": [],
   "source": [
    "def rule_x(model,i):\n",
    "    return data.iloc[i-1][0]\n",
    "def rule_y(model,i):\n",
    "    return data.iloc[i-1][1]"
   ]
  },
  {
   "cell_type": "code",
   "execution_count": 974,
   "metadata": {},
   "outputs": [],
   "source": [
    "model.X = pyo.Param(model.Iset,initialize=rule_x)\n",
    "model.Y = pyo.Param(model.Iset,initialize=rule_y)"
   ]
  },
  {
   "cell_type": "code",
   "execution_count": 975,
   "metadata": {},
   "outputs": [],
   "source": [
    "model.c = pyo.Var(model.Bset,domain=pyo.Reals)\n",
    "model.d = pyo.Var(model.Bset,domain=pyo.Reals)"
   ]
  },
  {
   "cell_type": "code",
   "execution_count": 976,
   "metadata": {},
   "outputs": [],
   "source": [
    "model.eps = pyo.Var(model.Iset,domain = pyo.NonNegativeReals)"
   ]
  },
  {
   "cell_type": "code",
   "execution_count": 977,
   "metadata": {},
   "outputs": [],
   "source": [
    "model.delta = pyo.Var(model.Iset,model.Bset,domain = pyo.Binary)"
   ]
  },
  {
   "cell_type": "code",
   "execution_count": 978,
   "metadata": {},
   "outputs": [],
   "source": [
    "model.deltap = pyo.Var(model.Iset,model.Bset,domain=pyo.Reals, bounds=(0,1))\n",
    "model.deltan = pyo.Var(model.Iset,model.Bset,domain=pyo.Reals, bounds=(0,1))"
   ]
  },
  {
   "cell_type": "code",
   "execution_count": 979,
   "metadata": {},
   "outputs": [],
   "source": [
    "model.gamma = pyo.Var(model.Bset,domain=pyo.Binary)"
   ]
  },
  {
   "cell_type": "code",
   "execution_count": 980,
   "metadata": {},
   "outputs": [],
   "source": [
    "model.Z = pyo.Var(model.Bset,domain=pyo.Binary)"
   ]
  },
  {
   "cell_type": "code",
   "execution_count": 981,
   "metadata": {},
   "outputs": [],
   "source": [
    "k = 3\n",
    "\n",
    "model.k = pyo.Param(initialize=k)"
   ]
  },
  {
   "cell_type": "markdown",
   "metadata": {},
   "source": [
    "# constraint 1\n"
   ]
  },
  {
   "cell_type": "code",
   "execution_count": 982,
   "metadata": {},
   "outputs": [],
   "source": [
    "def rc1(model,i,b):\n",
    "    \n",
    "    if b > model.B - model.k:\n",
    "        return pyo.Constraint.Skip\n",
    "    \n",
    "    return model.Y[i] - (model.c[b]*model.X[i]+model.d[b]) <= model.eps[i] + model.M[i]*(1-model.delta[i,b])"
   ]
  },
  {
   "cell_type": "code",
   "execution_count": 983,
   "metadata": {},
   "outputs": [],
   "source": [
    "model.const1 = pyo.Constraint(model.Iset,model.Bset,rule = rc1)"
   ]
  },
  {
   "cell_type": "markdown",
   "metadata": {},
   "source": [
    "# constraint 2\n"
   ]
  },
  {
   "cell_type": "code",
   "execution_count": 984,
   "metadata": {},
   "outputs": [],
   "source": [
    "def rc2(model,i,b):\n",
    "    \n",
    "    if b > model.B - model.k:\n",
    "        return pyo.Constraint.Skip\n",
    "    \n",
    "    return (model.c[b]*model.X[i]+model.d[b]) - model.Y[i]  <= model.eps[i] + model.M[i]*(1-model.delta[i,b])"
   ]
  },
  {
   "cell_type": "code",
   "execution_count": 985,
   "metadata": {},
   "outputs": [],
   "source": [
    "model.const2 = pyo.Constraint(model.Iset,model.Bset,rule = rc2)"
   ]
  },
  {
   "cell_type": "markdown",
   "metadata": {},
   "source": [
    "# constraint 3\n"
   ]
  },
  {
   "cell_type": "code",
   "execution_count": 986,
   "metadata": {},
   "outputs": [],
   "source": [
    "def rc3(model,i):\n",
    "    \n",
    "    return sum(model.delta[i,b] for b in model.Bset if b<=model.B-model.k) == 1"
   ]
  },
  {
   "cell_type": "code",
   "execution_count": 987,
   "metadata": {},
   "outputs": [],
   "source": [
    "model.const3 = pyo.Constraint(model.Iset,rule=rc3)"
   ]
  },
  {
   "cell_type": "markdown",
   "metadata": {},
   "source": [
    "# constraint 4\n"
   ]
  },
  {
   "cell_type": "code",
   "execution_count": 988,
   "metadata": {},
   "outputs": [],
   "source": [
    "def rc4(model,i,b):\n",
    "    \n",
    "    if i == model.I:\n",
    "        return pyo.Constraint.Skip\n",
    "    \n",
    "    if b > model.B - model.k - 1:\n",
    "        return pyo.Constraint.Skip\n",
    "\n",
    "    \n",
    "    return model.delta[i+1,b+1] <= model.delta[i,b] + model.delta[i,b+1]"
   ]
  },
  {
   "cell_type": "code",
   "execution_count": 989,
   "metadata": {},
   "outputs": [],
   "source": [
    "model.const4 = pyo.Constraint(model.Iset,model.Bset,rule=rc4)"
   ]
  },
  {
   "cell_type": "markdown",
   "metadata": {},
   "source": [
    "# constraint 5\n"
   ]
  },
  {
   "cell_type": "code",
   "execution_count": 990,
   "metadata": {},
   "outputs": [],
   "source": [
    "def rc5(model,i):\n",
    "    \n",
    "    if i == model.I:\n",
    "        return pyo.Constraint.Skip\n",
    "    \n",
    "    return model.delta[i+1,1] <= model.delta[i,1]"
   ]
  },
  {
   "cell_type": "code",
   "execution_count": 991,
   "metadata": {},
   "outputs": [],
   "source": [
    "model.const5 = pyo.Constraint(model.Iset,rule=rc5)"
   ]
  },
  {
   "cell_type": "markdown",
   "metadata": {},
   "source": [
    "# constraint 6\n"
   ]
  },
  {
   "cell_type": "code",
   "execution_count": 992,
   "metadata": {},
   "outputs": [],
   "source": [
    "def rc6(model,i):\n",
    "    \n",
    "    if i == model.I:\n",
    "        return pyo.Constraint.Skip\n",
    "    \n",
    "    return model.delta[i,model.B-model.k] <= model.delta[i+1,model.B - model.k]"
   ]
  },
  {
   "cell_type": "code",
   "execution_count": 993,
   "metadata": {},
   "outputs": [],
   "source": [
    "model.const6 = pyo.Constraint(model.Iset,rule=rc6)"
   ]
  },
  {
   "cell_type": "markdown",
   "metadata": {},
   "source": [
    "# constraint 7\n"
   ]
  },
  {
   "cell_type": "code",
   "execution_count": 994,
   "metadata": {},
   "outputs": [],
   "source": [
    "def rc7(model):\n",
    "    return sum(model.Z[b] for b in model.Bset if b <= model.B-model.k-1) == model.k - 1"
   ]
  },
  {
   "cell_type": "code",
   "execution_count": 995,
   "metadata": {},
   "outputs": [],
   "source": [
    "model.const7 = pyo.Constraint(rule=rc7)"
   ]
  },
  {
   "cell_type": "markdown",
   "metadata": {},
   "source": [
    "# constraint 8\n"
   ]
  },
  {
   "cell_type": "code",
   "execution_count": 996,
   "metadata": {},
   "outputs": [],
   "source": [
    "def rc8(model,i,b):\n",
    "    if i == model.I:\n",
    "        return pyo.Constraint.Skip\n",
    "    if b > model.B - model.k - 1:\n",
    "        return pyo.Constraint.Skip\n",
    "    return model.delta[i,b] + model.delta[i+1,b+1] + model.gamma[b] - 2 <= model.deltap[i,b] + model.Z[b]"
   ]
  },
  {
   "cell_type": "code",
   "execution_count": 997,
   "metadata": {},
   "outputs": [],
   "source": [
    "model.const8 = pyo.Constraint(model.Iset, model.Bset, rule=rc8)"
   ]
  },
  {
   "cell_type": "markdown",
   "metadata": {},
   "source": [
    "# constraint 9\n"
   ]
  },
  {
   "cell_type": "code",
   "execution_count": 998,
   "metadata": {},
   "outputs": [],
   "source": [
    "def rc9(model,i,b):\n",
    "    if i == model.I:\n",
    "        return pyo.Constraint.Skip\n",
    "    if b > model.B - model.k - 1:\n",
    "        return pyo.Constraint.Skip\n",
    "    return model.delta[i,b] + model.delta[i+1,b+1] + 1 - model.gamma[b] - 2 <= model.deltan[i,b] + model.Z[b]"
   ]
  },
  {
   "cell_type": "code",
   "execution_count": 999,
   "metadata": {},
   "outputs": [],
   "source": [
    "model.const9 = pyo.Constraint(model.Iset,model.Bset,rule=rc9)"
   ]
  },
  {
   "cell_type": "markdown",
   "metadata": {},
   "source": [
    "# constraint 10\n"
   ]
  },
  {
   "cell_type": "code",
   "execution_count": 1000,
   "metadata": {},
   "outputs": [],
   "source": [
    "def rc10(model,i,b):\n",
    "    \n",
    "    if i == model.I:\n",
    "        return pyo.Constraint.Skip\n",
    "    if b > model.B - model.k - 1:\n",
    "        return pyo.Constraint.Skip\n",
    "    \n",
    "    return model.d[b+1] - model.d[b] >= model.X[i]*(model.c[b] - model.c[b+1]) - model.M2[i]*(1-model.deltap[i,b])"
   ]
  },
  {
   "cell_type": "code",
   "execution_count": 1001,
   "metadata": {},
   "outputs": [],
   "source": [
    "model.const10 = pyo.Constraint(model.Iset,model.Bset,rule=rc10)"
   ]
  },
  {
   "cell_type": "markdown",
   "metadata": {},
   "source": [
    "# constraint 11\n"
   ]
  },
  {
   "cell_type": "code",
   "execution_count": 1002,
   "metadata": {},
   "outputs": [],
   "source": [
    "def rc11(model,i,b):\n",
    "    \n",
    "    if i == model.I:\n",
    "        return pyo.Constraint.Skip\n",
    "    if b > model.B - model.k - 1:\n",
    "        return pyo.Constraint.Skip\n",
    "    \n",
    "    return model.d[b+1] - model.d[b] <= model.X[i+1]*(model.c[b] - model.c[b+1]) - model.M2[i+1]*(1-model.deltap[i,b])"
   ]
  },
  {
   "cell_type": "code",
   "execution_count": 1003,
   "metadata": {},
   "outputs": [],
   "source": [
    "model.const11 = pyo.Constraint(model.Iset,model.Bset,rule=rc11)"
   ]
  },
  {
   "cell_type": "markdown",
   "metadata": {},
   "source": [
    "# constraint 12\n"
   ]
  },
  {
   "cell_type": "code",
   "execution_count": 1004,
   "metadata": {},
   "outputs": [],
   "source": [
    "def rc12(model,i,b):\n",
    "    \n",
    "    if i == model.I:\n",
    "        return pyo.Constraint.Skip\n",
    "    if b > model.B - model.k - 1:\n",
    "        return pyo.Constraint.Skip\n",
    "    \n",
    "    return model.d[b+1] - model.d[b] <= model.X[i]*(model.c[b] - model.c[b+1]) - model.M2[i]*(1-model.deltan[i,b])"
   ]
  },
  {
   "cell_type": "code",
   "execution_count": 1005,
   "metadata": {},
   "outputs": [],
   "source": [
    "model.const12 = pyo.Constraint(model.Iset,model.Bset,rule=rc12)"
   ]
  },
  {
   "cell_type": "markdown",
   "metadata": {},
   "source": [
    "# constraint 13\n"
   ]
  },
  {
   "cell_type": "code",
   "execution_count": 1006,
   "metadata": {},
   "outputs": [],
   "source": [
    "def rc13(model,i,b):\n",
    "    \n",
    "    if i == model.I:\n",
    "        return pyo.Constraint.Skip\n",
    "    if b > model.B - model.k - 1:\n",
    "        return pyo.Constraint.Skip\n",
    "    \n",
    "    return model.d[b+1] - model.d[b] >= model.X[i+1]*(model.c[b] - model.c[b+1]) - model.M2[i+1]*(1-model.deltan[i,b])"
   ]
  },
  {
   "cell_type": "code",
   "execution_count": 1007,
   "metadata": {},
   "outputs": [],
   "source": [
    "model.const13 = pyo.Constraint(model.Iset,model.Bset,rule=rc13)"
   ]
  },
  {
   "cell_type": "markdown",
   "metadata": {},
   "source": [
    "# constraint 14"
   ]
  },
  {
   "cell_type": "code",
   "execution_count": 1008,
   "metadata": {},
   "outputs": [],
   "source": [
    "def rc14(model,b):\n",
    "    if b > model.B-model.k:\n",
    "        return pyo.Constraint.Skip\n",
    "    \n",
    "    return sum(model.delta[i,b] for i in model.Iset) >= 2"
   ]
  },
  {
   "cell_type": "code",
   "execution_count": 1009,
   "metadata": {},
   "outputs": [],
   "source": [
    "model.const14 = pyo.Constraint(model.Bset,rule=rc14)"
   ]
  },
  {
   "cell_type": "markdown",
   "metadata": {},
   "source": [
    "# objective"
   ]
  },
  {
   "cell_type": "code",
   "execution_count": 1010,
   "metadata": {},
   "outputs": [],
   "source": [
    "def ro(model):\n",
    "    return sum(model.eps[i] for i in model.Iset)"
   ]
  },
  {
   "cell_type": "code",
   "execution_count": 1011,
   "metadata": {},
   "outputs": [],
   "source": [
    "model.obj = pyo.Objective(rule=ro,sense = pyo.minimize)"
   ]
  },
  {
   "cell_type": "code",
   "execution_count": 1012,
   "metadata": {},
   "outputs": [],
   "source": [
    "markers = {1:'o',2:'x',3:'*',4:'D',5:'V'}"
   ]
  },
  {
   "cell_type": "markdown",
   "metadata": {},
   "source": [
    "# solution"
   ]
  },
  {
   "cell_type": "code",
   "execution_count": 1013,
   "metadata": {},
   "outputs": [],
   "source": [
    "solver = pyo.SolverFactory('glpk')"
   ]
  },
  {
   "cell_type": "code",
   "execution_count": 1014,
   "metadata": {},
   "outputs": [],
   "source": [
    "opt = {'tmlim':1200}"
   ]
  },
  {
   "cell_type": "code",
   "execution_count": null,
   "metadata": {},
   "outputs": [],
   "source": [
    "result = solver.solve(model,'glpk')"
   ]
  },
  {
   "cell_type": "code",
   "execution_count": 959,
   "metadata": {},
   "outputs": [],
   "source": [
    "import matplotlib.pyplot as plt"
   ]
  },
  {
   "cell_type": "markdown",
   "metadata": {},
   "source": [
    "# plotting"
   ]
  },
  {
   "cell_type": "code",
   "execution_count": 960,
   "metadata": {},
   "outputs": [],
   "source": [
    "def draw():\n",
    "    m = 1\n",
    "    plt.figure(figsize=(10,6))\n",
    "    for b in model.Bset:\n",
    "\n",
    "\n",
    "        if b > model.B - model.k:\n",
    "            break\n",
    "        cc = pyo.value(model.c[b])\n",
    "        dd = pyo.value(model.d[b])\n",
    "        px = 0\n",
    "        py=0\n",
    "        pyy = 0\n",
    "        if b > 1 and pyo.value(model.Z[b-1])==0:\n",
    "            px = x[-1]\n",
    "            py = y[-1]\n",
    "            pyy = y_org[-1]\n",
    "\n",
    "\n",
    "\n",
    "        x = []\n",
    "        y = []\n",
    "        y_org = []\n",
    "\n",
    "        if b > 1 and pyo.value(model.Z[b-1])==0:\n",
    "            x.append(px)\n",
    "            y.append(py)\n",
    "            y_org.append(pyy)\n",
    "\n",
    "\n",
    "        for i in model.Iset:\n",
    "            if pyo.value(model.delta[i,b]) == 1:\n",
    "                x.append(pyo.value(model.X[i]))\n",
    "                y.append(cc*pyo.value(model.X[i])+dd)\n",
    "                y_org.append(pyo.value(model.Y[i]))\n",
    "\n",
    "        plt.scatter(x,y_org,marker=markers[m],label=f\"cluster {m}\")\n",
    "\n",
    "        if b<=model.B-model.k-1 and pyo.value(model.Z[b])==1:\n",
    "            m+=1\n",
    "        plt.plot(x,y,label = f\"segment{b}\")\n",
    "\n",
    "    plt.legend()\n",
    "    plt.show()"
   ]
  },
  {
   "cell_type": "markdown",
   "metadata": {},
   "source": [
    "# 7 breakpoints, 3 clusters"
   ]
  },
  {
   "cell_type": "code",
   "execution_count": 962,
   "metadata": {},
   "outputs": [
    {
     "name": "stdout",
     "output_type": "stream",
     "text": [
      "\n",
      "Problem: \n",
      "- Name: unknown\n",
      "  Lower bound: 65.0522276124101\n",
      "  Upper bound: 65.0522276124101\n",
      "  Number of objectives: 1\n",
      "  Number of constraints: 1391\n",
      "  Number of variables: 493\n",
      "  Number of nonzeros: 6193\n",
      "  Sense: minimize\n",
      "Solver: \n",
      "- Status: ok\n",
      "  Termination condition: optimal\n",
      "  Statistics: \n",
      "    Branch and bound: \n",
      "      Number of bounded subproblems: 6325\n",
      "      Number of created subproblems: 6325\n",
      "  Error rc: 0\n",
      "  Time: 40.66535568237305\n",
      "Solution: \n",
      "- number of solutions: 0\n",
      "  number of solutions displayed: 0\n",
      "\n"
     ]
    }
   ],
   "source": [
    "print(result)"
   ]
  },
  {
   "cell_type": "code",
   "execution_count": 961,
   "metadata": {},
   "outputs": [
    {
     "data": {
      "image/png": "[encoded data removed]",
      "text/plain": [
       "<Figure size 720x432 with 1 Axes>"
      ]
     },
     "metadata": {
      "needs_background": "light"
     },
     "output_type": "display_data"
    }
   ],
   "source": [
    "draw()"
   ]
  },
  {
   "cell_type": "markdown",
   "metadata": {},
   "source": [
    "# 6 breakpoints, 3 clusters"
   ]
  },
  {
   "cell_type": "code",
   "execution_count": 715,
   "metadata": {},
   "outputs": [
    {
     "name": "stdout",
     "output_type": "stream",
     "text": [
      "\n",
      "Problem: \n",
      "- Name: unknown\n",
      "  Lower bound: -inf\n",
      "  Upper bound: inf\n",
      "  Number of objectives: 1\n",
      "  Number of constraints: 611\n",
      "  Number of variables: 225\n",
      "  Number of nonzeros: 2473\n",
      "  Sense: minimize\n",
      "Solver: \n",
      "- Status: ok\n",
      "  Termination condition: infeasible\n",
      "  Statistics: \n",
      "    Branch and bound: \n",
      "      Number of bounded subproblems: 0\n",
      "      Number of created subproblems: 0\n",
      "  Error rc: 0\n",
      "  Time: 0.6101529598236084\n",
      "\n"
     ]
    }
   ],
   "source": [
    "print(result)"
   ]
  },
  {
   "cell_type": "code",
   "execution_count": 658,
   "metadata": {},
   "outputs": [
    {
     "data": {
      "image/png": "[encoded data removed]",
      "text/plain": [
       "<Figure size 720x432 with 1 Axes>"
      ]
     },
     "metadata": {
      "needs_background": "light"
     },
     "output_type": "display_data"
    }
   ],
   "source": [
    "m = 1\n",
    "plt.figure(figsize=(10,6))\n",
    "for b in model.Bset:\n",
    "    \n",
    "    \n",
    "    if b > model.B - model.k:\n",
    "        break\n",
    "    cc = pyo.value(model.c[b])\n",
    "    dd = pyo.value(model.d[b])\n",
    "    \n",
    "    \n",
    "    \n",
    "    x = []\n",
    "    y = []\n",
    "    y_org = []\n",
    "    \n",
    "    for i in model.Iset:\n",
    "        if pyo.value(model.delta[i,b]) == 1:\n",
    "            x.append(pyo.value(model.X[i]))\n",
    "            y.append(cc*pyo.value(model.X[i])+dd)\n",
    "            y_org.append(pyo.value(model.Y[i]))\n",
    "\n",
    "    plt.scatter(x,y_org,marker=markers[m],label=f\"cluster {m}\")\n",
    "    \n",
    "    if b<=model.B-model.k-1 and pyo.value(model.Z[b])==1:\n",
    "        m+=1\n",
    "    plt.plot(x,y,label = f\"segment{b}\")\n",
    "    \n",
    "plt.legend()\n",
    "plt.show()"
   ]
  },
  {
   "cell_type": "markdown",
   "metadata": {},
   "source": [
    "# 6 breakpoints, 2 clusters"
   ]
  },
  {
   "cell_type": "code",
   "execution_count": 773,
   "metadata": {},
   "outputs": [
    {
     "name": "stdout",
     "output_type": "stream",
     "text": [
      "\n",
      "Problem: \n",
      "- Name: unknown\n",
      "  Lower bound: 72.9426777077625\n",
      "  Upper bound: 72.9426777077625\n",
      "  Number of objectives: 1\n",
      "  Number of constraints: 1391\n",
      "  Number of variables: 493\n",
      "  Number of nonzeros: 6193\n",
      "  Sense: minimize\n",
      "Solver: \n",
      "- Status: ok\n",
      "  Termination condition: optimal\n",
      "  Statistics: \n",
      "    Branch and bound: \n",
      "      Number of bounded subproblems: 39325\n",
      "      Number of created subproblems: 39325\n",
      "  Error rc: 0\n",
      "  Time: 216.1810429096222\n",
      "Solution: \n",
      "- number of solutions: 0\n",
      "  number of solutions displayed: 0\n",
      "\n"
     ]
    }
   ],
   "source": [
    "print(result)"
   ]
  },
  {
   "cell_type": "code",
   "execution_count": 787,
   "metadata": {},
   "outputs": [
    {
     "data": {
      "image/png": "[encoded data removed]",
      "text/plain": [
       "<Figure size 720x432 with 1 Axes>"
      ]
     },
     "metadata": {
      "needs_background": "light"
     },
     "output_type": "display_data"
    }
   ],
   "source": [
    "draw()"
   ]
  },
  {
   "cell_type": "code",
   "execution_count": null,
   "metadata": {},
   "outputs": [],
   "source": []
  }
 ],
 "metadata": {
  "kernelspec": {
   "display_name": "Python 3",
   "language": "python",
   "name": "python3"
  },
  "language_info": {
   "codemirror_mode": {
    "name": "ipython",
    "version": 3
   },
   "file_extension": ".py",
   "mimetype": "text/x-python",
   "name": "python",
   "nbconvert_exporter": "python",
   "pygments_lexer": "ipython3",
   "version": "3.7.3"
  }
 },
 "nbformat": 4,
 "nbformat_minor": 2
}
