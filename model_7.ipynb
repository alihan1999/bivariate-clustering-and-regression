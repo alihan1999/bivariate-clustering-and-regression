{
 "cells": [
  {
   "cell_type": "code",
   "execution_count": 1,
   "metadata": {},
   "outputs": [],
   "source": [
    "import matplotlib.pyplot as plt"
   ]
  },
  {
   "cell_type": "code",
   "execution_count": 2,
   "metadata": {},
   "outputs": [],
   "source": [
    "import pyomo.environ as pyo"
   ]
  },
  {
   "cell_type": "code",
   "execution_count": 309,
   "metadata": {},
   "outputs": [],
   "source": [
    "import numpy as np\n",
    "import pandas as pd\n",
    "\n"
   ]
  },
  {
   "cell_type": "code",
   "execution_count": 373,
   "metadata": {},
   "outputs": [],
   "source": [
    "data = pd.read_csv(\"DebrisFlow.txt\",sep ='\\t',header = None)"
   ]
  },
  {
   "cell_type": "code",
   "execution_count": 374,
   "metadata": {},
   "outputs": [],
   "source": [
    "model = pyo.ConcreteModel()"
   ]
  },
  {
   "cell_type": "code",
   "execution_count": 375,
   "metadata": {},
   "outputs": [],
   "source": [
    "M = [max( abs(data.iloc[i][1] - 0.29*data.iloc[i][0]-25) , abs(data.iloc[i][1] - 0.29*data.iloc[i][0]+94),\n",
    "        abs(data.iloc[i][1]-25) , abs(data.iloc[i][1] +94)) for i in range(len(data))]"
   ]
  },
  {
   "cell_type": "code",
   "execution_count": 376,
   "metadata": {},
   "outputs": [],
   "source": [
    "M2 = [119+0.3*data.iloc[i][0] for i in range(len(data))]"
   ]
  },
  {
   "cell_type": "code",
   "execution_count": 377,
   "metadata": {},
   "outputs": [],
   "source": [
    "I = np.arange(len(data)) +1"
   ]
  },
  {
   "cell_type": "code",
   "execution_count": 378,
   "metadata": {},
   "outputs": [],
   "source": [
    "model.Iset = pyo.Set(initialize=I)\n",
    "model.I = pyo.Param(initialize=len(I))"
   ]
  },
  {
   "cell_type": "code",
   "execution_count": 379,
   "metadata": {},
   "outputs": [],
   "source": [
    "def rule_x(model,i):\n",
    "    return data.iloc[i-1][0]\n",
    "def rule_y(model,i):\n",
    "    return data.iloc[i-1][1]"
   ]
  },
  {
   "cell_type": "code",
   "execution_count": 380,
   "metadata": {},
   "outputs": [],
   "source": [
    "B = np.arange(5)+1\n"
   ]
  },
  {
   "cell_type": "code",
   "execution_count": 381,
   "metadata": {},
   "outputs": [],
   "source": [
    "model.Bset = pyo.Set(initialize=B)\n",
    "model.B = pyo.Param(initialize=len(B))\n"
   ]
  },
  {
   "cell_type": "code",
   "execution_count": 382,
   "metadata": {},
   "outputs": [],
   "source": [
    "model.X = pyo.Param(model.Iset,initialize=rule_x)"
   ]
  },
  {
   "cell_type": "code",
   "execution_count": 383,
   "metadata": {},
   "outputs": [],
   "source": [
    "model.Y = pyo.Param(model.Iset,initialize=rule_y)"
   ]
  },
  {
   "cell_type": "code",
   "execution_count": 384,
   "metadata": {},
   "outputs": [],
   "source": [
    "model.c = pyo.Var(model.Bset,domain=pyo.Reals,bounds=(0,0.3))"
   ]
  },
  {
   "cell_type": "code",
   "execution_count": 385,
   "metadata": {},
   "outputs": [],
   "source": [
    "model.d = pyo.Var(model.Bset,domain=pyo.Reals,bounds=(-94,25))"
   ]
  },
  {
   "cell_type": "code",
   "execution_count": 386,
   "metadata": {},
   "outputs": [],
   "source": [
    "model.eps = pyo.Var(model.Iset,domain = pyo.NonNegativeReals)"
   ]
  },
  {
   "cell_type": "code",
   "execution_count": 387,
   "metadata": {},
   "outputs": [],
   "source": [
    "model.delta = pyo.Var(model.Iset,model.Bset,domain = pyo.Binary)"
   ]
  },
  {
   "cell_type": "code",
   "execution_count": 388,
   "metadata": {},
   "outputs": [],
   "source": [
    "model.deltap = pyo.Var(model.Iset,model.Bset,domain=pyo.Reals, bounds=(0,1))"
   ]
  },
  {
   "cell_type": "code",
   "execution_count": 389,
   "metadata": {},
   "outputs": [],
   "source": [
    "model.deltan = pyo.Var(model.Iset,model.Bset,domain=pyo.Reals, bounds=(0,1))"
   ]
  },
  {
   "cell_type": "code",
   "execution_count": 390,
   "metadata": {},
   "outputs": [],
   "source": [
    "model.gamma = pyo.Var(model.Bset,domain=pyo.Binary)"
   ]
  },
  {
   "cell_type": "code",
   "execution_count": 391,
   "metadata": {},
   "outputs": [],
   "source": [
    "def M_rule(model,i):\n",
    "    return M[i-1]"
   ]
  },
  {
   "cell_type": "code",
   "execution_count": 392,
   "metadata": {},
   "outputs": [],
   "source": [
    "model.M = pyo.Param(model.Iset,initialize=M_rule)"
   ]
  },
  {
   "cell_type": "code",
   "execution_count": 393,
   "metadata": {},
   "outputs": [],
   "source": [
    "def M2_rule(model,i):\n",
    "    return M2[i-1]"
   ]
  },
  {
   "cell_type": "code",
   "execution_count": 394,
   "metadata": {},
   "outputs": [],
   "source": [
    "model.M2 = pyo.Param(model.Iset,initialize=M2_rule)"
   ]
  },
  {
   "cell_type": "code",
   "execution_count": 395,
   "metadata": {},
   "outputs": [],
   "source": [
    "def rule_const1(model,i,b):\n",
    "    if b==model.B:\n",
    "        return pyo.Constraint.Skip\n",
    "    \n",
    "    return model.Y[i] - model.c[b]*model.X[i] - model.d[b] <= model.eps[i] + model.M[i]*(1-model.delta[i,b])"
   ]
  },
  {
   "cell_type": "code",
   "execution_count": 396,
   "metadata": {},
   "outputs": [],
   "source": [
    "model.const1 = pyo.Constraint(model.Iset,model.Bset,rule = rule_const1)"
   ]
  },
  {
   "cell_type": "code",
   "execution_count": 397,
   "metadata": {},
   "outputs": [],
   "source": [
    "def rule_const2(model,i,b):\n",
    "    if b==model.B:\n",
    "        return pyo.Constraint.Skip\n",
    "    \n",
    "    return -1*model.Y[i] + model.c[b]*model.X[i] + model.d[b] <= model.eps[i] + model.M[i]*(1-model.delta[i,b])"
   ]
  },
  {
   "cell_type": "code",
   "execution_count": 398,
   "metadata": {},
   "outputs": [],
   "source": [
    "model.const2 = pyo.Constraint(model.Iset,model.Bset,rule=rule_const2)"
   ]
  },
  {
   "cell_type": "code",
   "execution_count": 399,
   "metadata": {},
   "outputs": [],
   "source": [
    "def rule_const3(model,i):\n",
    "    return sum(model.delta[i,b] for b in model.Bset if b!=model.B) == 1"
   ]
  },
  {
   "cell_type": "code",
   "execution_count": 400,
   "metadata": {},
   "outputs": [],
   "source": [
    "model.const3 = pyo.Constraint(model.Iset,rule=rule_const3)"
   ]
  },
  {
   "cell_type": "code",
   "execution_count": 401,
   "metadata": {},
   "outputs": [],
   "source": [
    "def rule_const_4(model,i,b):\n",
    "    \n",
    "    if i==model.I:\n",
    "        return pyo.Constraint.Skip\n",
    "    \n",
    "    if b == model.B:\n",
    "        return pyo.Constraint.Skip\n",
    "    \n",
    "    return model.delta[i+1,b+1] <= model.delta[i,b] + model.delta[i,b+1]"
   ]
  },
  {
   "cell_type": "code",
   "execution_count": 402,
   "metadata": {},
   "outputs": [],
   "source": [
    "def rule_const_5(model,i):\n",
    "    \n",
    "    if i==model.I:\n",
    "        return pyo.Constraint.Skip\n",
    " \n",
    "    \n",
    "    return model.delta[i+1,1] <= model.delta[i,1] "
   ]
  },
  {
   "cell_type": "code",
   "execution_count": 403,
   "metadata": {},
   "outputs": [],
   "source": [
    "def rule_const_6(model,i):\n",
    "    \n",
    "    if i==model.I:\n",
    "        return pyo.Constraint.Skip\n",
    " \n",
    "    \n",
    "    return model.delta[i,model.B] <= model.delta[i+1,model.B] "
   ]
  },
  {
   "cell_type": "code",
   "execution_count": 404,
   "metadata": {},
   "outputs": [],
   "source": [
    "model.const4 = pyo.Constraint(model.Iset,model.Bset,rule = rule_const_4)"
   ]
  },
  {
   "cell_type": "code",
   "execution_count": 405,
   "metadata": {},
   "outputs": [],
   "source": [
    "model.const5 = pyo.Constraint(model.Iset,rule = rule_const_5)"
   ]
  },
  {
   "cell_type": "code",
   "execution_count": 406,
   "metadata": {},
   "outputs": [],
   "source": [
    "model.const6 = pyo.Constraint(model.Iset, rule = rule_const_6)"
   ]
  },
  {
   "cell_type": "code",
   "execution_count": 407,
   "metadata": {},
   "outputs": [],
   "source": [
    "def rule_const_7(model,i,b):\n",
    "    if i == model.I:\n",
    "        return pyo.Constraint.Skip\n",
    "    if b > model.B-2:\n",
    "        return pyo.Constraint.Skip\n",
    "    \n",
    "    return model.delta[i,b] + model.delta[i+1,b+1] + model.gamma[b] -2 <= model.deltap[i,b]"
   ]
  },
  {
   "cell_type": "code",
   "execution_count": 408,
   "metadata": {},
   "outputs": [],
   "source": [
    "model.const7 = pyo.Constraint(model.Iset,model.Bset, rule = rule_const_7)"
   ]
  },
  {
   "cell_type": "code",
   "execution_count": 409,
   "metadata": {},
   "outputs": [],
   "source": [
    "def rule_const_8(model,i,b):\n",
    "    if i == model.I:\n",
    "        return pyo.Constraint.Skip\n",
    "    if b > model.B-2:\n",
    "        return pyo.Constraint.Skip\n",
    "    \n",
    "    return model.delta[i,b] + model.delta[i+1,b+1] + 1-model.gamma[b] -2 <= model.deltan[i,b]"
   ]
  },
  {
   "cell_type": "code",
   "execution_count": 410,
   "metadata": {},
   "outputs": [],
   "source": [
    "model.const8 = pyo.Constraint(model.Iset,model.Bset, rule = rule_const_8)"
   ]
  },
  {
   "cell_type": "code",
   "execution_count": 411,
   "metadata": {},
   "outputs": [],
   "source": [
    "def rule_const_9(model,i,b):\n",
    "    if i == model.I:\n",
    "        return pyo.Constraint.Skip\n",
    "    if b > model.B-2:\n",
    "        return pyo.Constraint.Skip\n",
    "    \n",
    "    return model.d[b+1] - model.d[b]>= model.X[i]*(model.c[b]-model.c[b+1])-model.M2[i]*(1-model.deltap[i,b])"
   ]
  },
  {
   "cell_type": "code",
   "execution_count": 412,
   "metadata": {},
   "outputs": [],
   "source": [
    "model.const9 = pyo.Constraint(model.Iset,model.Bset, rule = rule_const_9)"
   ]
  },
  {
   "cell_type": "code",
   "execution_count": 413,
   "metadata": {},
   "outputs": [],
   "source": [
    "def rule_const_10(model,i,b):\n",
    "    if i == model.I:\n",
    "        return pyo.Constraint.Skip\n",
    "    if b > model.B-2:\n",
    "        return pyo.Constraint.Skip\n",
    "    \n",
    "    return model.d[b+1] - model.d[b] <= model.X[i+1]*(model.c[b]-model.c[b+1])-model.M2[i+1]*(1-model.deltap[i,b])"
   ]
  },
  {
   "cell_type": "code",
   "execution_count": 414,
   "metadata": {},
   "outputs": [],
   "source": [
    "model.const10 = pyo.Constraint(model.Iset,model.Bset, rule = rule_const_10)"
   ]
  },
  {
   "cell_type": "code",
   "execution_count": 415,
   "metadata": {},
   "outputs": [],
   "source": [
    "def rule_const_11(model,i,b):\n",
    "    if i == model.I:\n",
    "        return pyo.Constraint.Skip\n",
    "    if b > model.B-2:\n",
    "        return pyo.Constraint.Skip\n",
    "    \n",
    "    return model.d[b+1] - model.d[b] <= model.X[i]*(model.c[b]-model.c[b+1])-model.M2[i]*(1-model.deltan[i,b])"
   ]
  },
  {
   "cell_type": "code",
   "execution_count": 416,
   "metadata": {},
   "outputs": [],
   "source": [
    "model.const11 = pyo.Constraint(model.Iset,model.Bset, rule = rule_const_11)"
   ]
  },
  {
   "cell_type": "code",
   "execution_count": 417,
   "metadata": {},
   "outputs": [],
   "source": [
    "def rule_const_12(model,i,b):\n",
    "    if i == model.I:\n",
    "        return pyo.Constraint.Skip\n",
    "    if b > model.B-2:\n",
    "        return pyo.Constraint.Skip\n",
    "    \n",
    "    return model.d[b+1] - model.d[b] >= model.X[i+1]*(model.c[b]-model.c[b+1])-model.M2[i+1]*(1-model.deltan[i,b])"
   ]
  },
  {
   "cell_type": "code",
   "execution_count": 418,
   "metadata": {},
   "outputs": [],
   "source": [
    "model.const12= pyo.Constraint(model.Iset,model.Bset, rule = rule_const_12)\n"
   ]
  },
  {
   "cell_type": "code",
   "execution_count": 419,
   "metadata": {},
   "outputs": [],
   "source": [
    "def rc13(model,b):\n",
    "    if b == model.B:\n",
    "        return pyo.Constraint.Skip\n",
    "    \n",
    "    return sum(model.delta[i,b] for i in model.Iset) >= 2"
   ]
  },
  {
   "cell_type": "code",
   "execution_count": 420,
   "metadata": {},
   "outputs": [],
   "source": [
    "model.const13 = pyo.Constraint(model.Bset,rule=rc13)"
   ]
  },
  {
   "cell_type": "code",
   "execution_count": 421,
   "metadata": {},
   "outputs": [],
   "source": [
    "def rule_obj(model):\n",
    "    return sum(model.eps[i] for i in model.Iset)"
   ]
  },
  {
   "cell_type": "code",
   "execution_count": 422,
   "metadata": {},
   "outputs": [],
   "source": [
    "model.obj = pyo.Objective(rule=rule_obj,sense = pyo.minimize)"
   ]
  },
  {
   "cell_type": "code",
   "execution_count": 423,
   "metadata": {},
   "outputs": [],
   "source": [
    "solver = pyo.SolverFactory('glpk')"
   ]
  },
  {
   "cell_type": "code",
   "execution_count": 424,
   "metadata": {},
   "outputs": [],
   "source": [
    "opt = {'tmlim':1200}"
   ]
  },
  {
   "cell_type": "code",
   "execution_count": 367,
   "metadata": {},
   "outputs": [],
   "source": [
    "result = solver.solve(model, options = opt)"
   ]
  },
  {
   "cell_type": "code",
   "execution_count": 368,
   "metadata": {},
   "outputs": [],
   "source": [
    "breaks = []\n",
    "k=len(B)-1\n",
    "\n",
    "breaks.append(1)\n",
    "\n",
    "for i in range(1,len(data)+1):\n",
    "    \n",
    "    for j in range(1,k):\n",
    "        \n",
    "        if pyo.value(model.delta[i,j]) == 1:\n",
    "            if pyo.value(model.delta[i+1,j])!=1:\n",
    "                breaks.append(i)\n",
    "            \n",
    "breaks.append(len(data))"
   ]
  },
  {
   "cell_type": "code",
   "execution_count": 369,
   "metadata": {},
   "outputs": [],
   "source": [
    "breaks = np.array(breaks)\n",
    "breaks = breaks - 1"
   ]
  },
  {
   "cell_type": "code",
   "execution_count": 370,
   "metadata": {},
   "outputs": [],
   "source": [
    "color = {1:'red',2:'orange',3:'green',4:'darkviolet',5:'lime'}"
   ]
  },
  {
   "cell_type": "markdown",
   "metadata": {},
   "source": [
    "# 5 breakpoints"
   ]
  },
  {
   "cell_type": "code",
   "execution_count": 177,
   "metadata": {},
   "outputs": [
    {
     "name": "stdout",
     "output_type": "stream",
     "text": [
      "\n",
      "Problem: \n",
      "- Name: unknown\n",
      "  Lower bound: 86.8262497581624\n",
      "  Upper bound: 86.8262497581624\n",
      "  Number of objectives: 1\n",
      "  Number of constraints: 1433\n",
      "  Number of variables: 534\n",
      "  Number of nonzeros: 6061\n",
      "  Sense: minimize\n",
      "Solver: \n",
      "- Status: ok\n",
      "  Termination condition: optimal\n",
      "  Statistics: \n",
      "    Branch and bound: \n",
      "      Number of bounded subproblems: 1645\n",
      "      Number of created subproblems: 1645\n",
      "  Error rc: 0\n",
      "  Time: 14.598718166351318\n",
      "Solution: \n",
      "- number of solutions: 0\n",
      "  number of solutions displayed: 0\n",
      "\n"
     ]
    }
   ],
   "source": [
    "print(result)"
   ]
  },
  {
   "cell_type": "code",
   "execution_count": 178,
   "metadata": {},
   "outputs": [
    {
     "data": {
      "image/png": "[encoded data removed]",
      "text/plain": [
       "<Figure size 720x432 with 1 Axes>"
      ]
     },
     "metadata": {
      "needs_background": "light"
     },
     "output_type": "display_data"
    }
   ],
   "source": [
    "plt.figure(figsize=(10,6))\n",
    "plt.scatter(data[0],data[1])\n",
    "for i in range(1,len(breaks)):\n",
    "    \n",
    "    plt.plot([data[0][breaks[i-1]],data[0][breaks[i]]],[data[1][breaks[i-1]],data[1][breaks[i]]],c=color[i])"
   ]
  }
 ],
 "metadata": {
  "kernelspec": {
   "display_name": "Python 3",
   "language": "python",
   "name": "python3"
  },
  "language_info": {
   "codemirror_mode": {
    "name": "ipython",
    "version": 3
   },
   "file_extension": ".py",
   "mimetype": "text/x-python",
   "name": "python",
   "nbconvert_exporter": "python",
   "pygments_lexer": "ipython3",
   "version": "3.7.3"
  }
 },
 "nbformat": 4,
 "nbformat_minor": 2
}
